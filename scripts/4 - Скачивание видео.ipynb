{
 "cells": [
  {
   "cell_type": "markdown",
   "id": "a081f28f",
   "metadata": {},
   "source": [
    "yt-dlp --downloader ffmpeg --downloader-args \"ffmpeg:-t 10 -ss 00:10:00\"  \"https://www.youtube.com/watch?v=FCvP2AmrcKA\""
   ]
  },
  {
   "cell_type": "code",
   "execution_count": 7,
   "id": "2cbb0b78",
   "metadata": {},
   "outputs": [],
   "source": [
    "import json\n",
    "from pprint import pprint\n",
    "import subprocess\n",
    "\n",
    "from config_file import config"
   ]
  },
  {
   "cell_type": "code",
   "execution_count": null,
   "id": "a215c229",
   "metadata": {},
   "outputs": [],
   "source": [
    "video_url = \"https://www.youtube.com/watch?v=FCvP2AmrcKA\"\n",
    "\n",
    "result = subprocess.run([\"yt-dlp\", \"-j\", video_url], capture_output=True, text=True)\n",
    "video_info = json.loads(result.stdout)"
   ]
  },
  {
   "cell_type": "code",
   "execution_count": 8,
   "id": "60b91630",
   "metadata": {},
   "outputs": [],
   "source": [
    "with open(config.DATA_PATH / 'data.json', 'w') as f:\n",
    "    f.write(json.dumps(video_info, indent=4))"
   ]
  }
 ],
 "metadata": {
  "kernelspec": {
   "display_name": ".venv",
   "language": "python",
   "name": "python3"
  },
  "language_info": {
   "codemirror_mode": {
    "name": "ipython",
    "version": 3
   },
   "file_extension": ".py",
   "mimetype": "text/x-python",
   "name": "python",
   "nbconvert_exporter": "python",
   "pygments_lexer": "ipython3",
   "version": "3.13.2"
  }
 },
 "nbformat": 4,
 "nbformat_minor": 5
}
