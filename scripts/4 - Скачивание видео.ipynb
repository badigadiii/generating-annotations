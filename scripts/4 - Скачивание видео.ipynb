{
 "cells": [
  {
   "cell_type": "markdown",
   "id": "a081f28f",
   "metadata": {},
   "source": [
    "yt-dlp -f \"bestvideo[height=1080][tbr>=4000][tbr<=7000] / bestvideo[height=1080]\" --downloader ffmpeg --downloader-args \"ffmpeg:-ss 00:10:00 -t 3600 -rate 30\"  \"https://www.youtube.com/watch?v=QJsw-IQjtzQ\""
   ]
  },
  {
   "cell_type": "code",
   "execution_count": null,
   "id": "696ab7ed",
   "metadata": {},
   "outputs": [],
   "source": [
    "import pandas as pd\n",
    "import subprocess\n",
    "import os\n",
    "from config_file import config\n",
    "\n",
    "csv_path = config.DATA_PATH / \"videos_small.csv\"\n",
    "df = pd.read_csv(csv_path)\n",
    "\n",
    "def sanitize_filename(name):\n",
    "    return \"\".join(c if c.isalnum() or c in \" -_\" else \"_\" for c in name).strip()\n",
    "\n",
    "df['game'] = df['game'].apply(sanitize_filename)\n",
    "downloaded = list(map(lambda name: name[:name.rfind('.')].strip(), os.listdir(config.VIDEOS_FOLDER)))\n",
    "videos_to_download = df[df['game'].apply(lambda game: game not in downloaded)]\n",
    "\n"
   ]
  }
 ],
 "metadata": {
  "kernelspec": {
   "display_name": ".venv",
   "language": "python",
   "name": "python3"
  },
  "language_info": {
   "codemirror_mode": {
    "name": "ipython",
    "version": 3
   },
   "file_extension": ".py",
   "mimetype": "text/x-python",
   "name": "python",
   "nbconvert_exporter": "python",
   "pygments_lexer": "ipython3",
   "version": "3.13.2"
  }
 },
 "nbformat": 4,
 "nbformat_minor": 5
}
