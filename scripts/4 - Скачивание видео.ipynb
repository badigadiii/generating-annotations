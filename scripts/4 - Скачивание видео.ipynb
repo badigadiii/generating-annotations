{
 "cells": [
  {
   "cell_type": "markdown",
   "id": "a081f28f",
   "metadata": {},
   "source": [
    "yt-dlp -f \"bestvideo[height=1080][tbr>=4000][tbr<=7000] / bestvideo[height=1080]\" --downloader ffmpeg --downloader-args \"ffmpeg:-ss 00:10:00 -t 3600 -limit-rate 30\"  \"https://www.youtube.com/watch?v=QJsw-IQjtzQ\""
   ]
  },
  {
   "cell_type": "code",
   "execution_count": null,
   "id": "72fb69b7",
   "metadata": {},
   "outputs": [],
   "source": [
    "import pandas as pd\n",
    "import subprocess\n",
    "import os\n",
    "from config_file import config\n",
    "\n",
    "# Путь к CSV-файлу\n",
    "csv_path = config.DATA_PATH / \"videos.csv\"\n",
    "\n",
    "# Загружаем CSV\n",
    "df = pd.read_csv(csv_path)\n",
    "\n",
    "def sanitize_filename(name):\n",
    "    # Убираем опасные символы\n",
    "    return \"\".join(c if c.isalnum() or c in \" -_\" else \"_\" for c in name).strip()\n",
    "\n",
    "for _, row in df.iterrows():\n",
    "    game = sanitize_filename(row[\"game\"])\n",
    "    url = row[\"url\"]\n",
    "    \n",
    "    print(f\"📥 Скачиваем: {game} — {url}\")\n",
    "\n",
    "    # Команда yt-dlp\n",
    "    command = [\n",
    "        \"yt-dlp\",\n",
    "        \"-f\", \"bestvideo[height<=1080]+bestaudio\",\n",
    "        \"-o\", config.VIDEOS_PATH / f\"{game}.%(ext)s\",\n",
    "        url\n",
    "    ]\n",
    "    \n",
    "    try:\n",
    "        subprocess.run(command, check=True)\n",
    "        print(f\"✅ Готово: {game}\\n\")\n",
    "    except subprocess.CalledProcessError:\n",
    "        print(f\"❌ Ошибка при скачивании: {game}\\n\")\n"
   ]
  }
 ],
 "metadata": {
  "kernelspec": {
   "display_name": ".venv",
   "language": "python",
   "name": "python3"
  },
  "language_info": {
   "codemirror_mode": {
    "name": "ipython",
    "version": 3
   },
   "file_extension": ".py",
   "mimetype": "text/x-python",
   "name": "python",
   "nbconvert_exporter": "python",
   "pygments_lexer": "ipython3",
   "version": "3.13.2"
  }
 },
 "nbformat": 4,
 "nbformat_minor": 5
}
