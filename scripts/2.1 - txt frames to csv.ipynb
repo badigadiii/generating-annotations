{
 "cells": [
  {
   "cell_type": "code",
   "execution_count": 2,
   "id": "7f1fe25b",
   "metadata": {},
   "outputs": [],
   "source": [
    "import os\n",
    "from pathlib import Path\n",
    "import pandas as pd\n",
    "\n",
    "from config_file import config"
   ]
  },
  {
   "cell_type": "code",
   "execution_count": 3,
   "id": "e9af9498",
   "metadata": {},
   "outputs": [],
   "source": [
    "def get_filename_captions(line: str):\n",
    "    filename, caption = line.split(\"\\t\")\n",
    "    frame_path = os.path.join(*Path(filename).parts[-3:]).replace(\"\\\\\", \"/\")\n",
    "    caption = caption.strip()\n",
    "\n",
    "    return frame_path, caption\n",
    "\n",
    "test_captions_txt_path = config.DATA_PATH / \"test_captions.txt\"\n",
    "with open(test_captions_txt_path, \"r\") as f:\n",
    "    test_captions_txt = list(map(get_filename_captions, f.readlines()))\n",
    "    test_captions_txt = sorted(test_captions_txt, key=lambda item: item[0])\n",
    "\n",
    "train_captions_txt_path = config.DATA_PATH / \"train_captions.txt\"\n",
    "with open(train_captions_txt_path, \"r\") as f:\n",
    "    train_captions_txt = list(map(get_filename_captions, f.readlines()))\n",
    "    train_captions_txt = sorted(train_captions_txt, key=lambda item: item[0])\n",
    "\n",
    "test_captions = pd.DataFrame(test_captions_txt, columns=[\"file_name\", \"caption\"])\n",
    "train_captions = pd.DataFrame(train_captions_txt, columns=[\"file_name\", \"caption\"])"
   ]
  },
  {
   "cell_type": "code",
   "execution_count": 4,
   "id": "727fb93f",
   "metadata": {},
   "outputs": [],
   "source": [
    "test_captions.to_csv(config.DATASET_PATH / \"test.csv\", index=False)\n",
    "train_captions.to_csv(config.DATASET_PATH / \"train.csv\", index=False)"
   ]
  }
 ],
 "metadata": {
  "kernelspec": {
   "display_name": ".venv",
   "language": "python",
   "name": "python3"
  },
  "language_info": {
   "codemirror_mode": {
    "name": "ipython",
    "version": 3
   },
   "file_extension": ".py",
   "mimetype": "text/x-python",
   "name": "python",
   "nbconvert_exporter": "python",
   "pygments_lexer": "ipython3",
   "version": "3.13.2"
  }
 },
 "nbformat": 4,
 "nbformat_minor": 5
}
