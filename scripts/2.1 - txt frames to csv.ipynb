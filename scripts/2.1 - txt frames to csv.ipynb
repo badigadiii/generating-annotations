{
 "cells": [
  {
   "cell_type": "code",
   "execution_count": 1,
   "id": "7f1fe25b",
   "metadata": {},
   "outputs": [],
   "source": [
    "import os\n",
    "from pathlib import Path\n",
    "\n",
    "from config_file import config"
   ]
  },
  {
   "cell_type": "code",
   "execution_count": null,
   "id": "45576d16",
   "metadata": {},
   "outputs": [
    {
     "data": {
      "text/plain": [
       "'\\nE:\\\\PythonProjects\\\\Scraping Dataset\\\\generating-annotations\\\\images\\\\retro-games-gameplay-frames\\\\test\\\\Yakuza 3\\\\frame_0492.png\\ta screenshot from a video game shows a man with a snake skin on his arm\\nE:\\\\PythonProjects\\\\Scraping Dataset\\\\generating-annotations\\\\images\\\\retro-games-gameplay-frames\\\\test\\\\Yakuza 3\\\\frame_0493.png\\ta screenshot from a video game shows a snake in a snake skin\\nE:\\\\PythonProjects\\\\Scraping Dataset\\\\generating-annotations\\\\images\\\\retro-games-gameplay-frames\\\\test\\\\Yakuza 3\\\\frame_0494.png\\ta screenshot from a video game shows a man with glasses and a leopard print shirt\\nE:\\\\PythonProjects\\\\Scraping Dataset\\\\generating-annotations\\\\images\\\\retro-games-gameplay-frames\\\\test\\\\Yakuza 3\\\\frame_0495.png\\ta screenshot from a video game shows a man with a mustache and glasses\\nE:\\\\PythonProjects\\\\Scraping Dataset\\\\generating-annotations\\\\images\\\\retro-games-gameplay-frames\\\\test\\\\Yakuza 3\\\\frame_0496.png\\ta screenshot from a video game shows a man in a suit and a red shirt\\nE:\\\\PythonProjects\\\\Scraping Dataset\\\\generating-annotations\\\\images\\\\retro-games-gameplay-frames\\\\test\\\\Yakuza 3\\\\frame_0497.png\\ta screenshot from a video game shows a man in a suit and a red shirt\\nE:\\\\PythonProjects\\\\Scraping Dataset\\\\generating-annotations\\\\images\\\\retro-games-gameplay-frames\\\\test\\\\Yakuza 3\\\\frame_0498.png\\ta screenshot from a video game shows a snake in the background\\nE:\\\\PythonProjects\\\\Scraping Dataset\\\\generating-annotations\\\\images\\\\retro-games-gameplay-frames\\\\test\\\\Yakuza 3\\\\frame_0499.png\\ta screenshot from a video game shows a man in a suit and tie\\nE:\\\\PythonProjects\\\\Scraping Dataset\\\\generating-annotations\\\\images\\\\retro-games-gameplay-frames\\\\test\\\\Yakuza 3\\\\frame_0500.png\\ta screenshot from a video game shows a man with a snake skin\\nE:\\\\PythonProjects\\\\Scraping Dataset\\\\generating-annotations\\\\images\\\\retro-games-gameplay-frames\\\\test\\\\Yakuza 3\\\\frame_0502.png\\ta screenshot from a video game shows a man in a suit and a woman in a dress\\nE:\\\\PythonProjects\\\\Scraping Dataset\\\\generating-annotations\\\\images\\\\retro-games-gameplay-frames\\\\test\\\\Yakuza 3\\\\frame_0503.png\\ta screenshot from a video game shows a man in a suit and tie\\nE:\\\\PythonProjects\\\\Scraping Dataset\\\\generating-annotations\\\\images\\\\retro-games-gameplay-frames\\\\test\\\\Yakuza 3\\\\frame_0504.png\\ta screenshot from a video game shows a man with a knife in his hand\\nE:\\\\PythonProjects\\\\Scraping Dataset\\\\generating-annotations\\\\images\\\\retro-games-gameplay-frames\\\\test\\\\Yakuza 3\\\\frame_0505.png\\ta screenshot from a video game shows a man in a suit\\nE:\\\\PythonProjects\\\\Scraping Dataset\\\\generating-annotations\\\\images\\\\retro-games-gameplay-frames\\\\test\\\\Yakuza 3\\\\frame_0506.png\\ta screenshot from a video game shows a man in a suit and a woman in a dress\\nE:\\\\PythonProjects\\\\Scraping Dataset\\\\generating-annotations\\\\images\\\\retro-games-gameplay-frames\\\\test\\\\Yakuza 3\\\\frame_0507.png\\ta screenshot from a video game shows two men in a room\\nE:\\\\PythonProjects\\\\Scraping Dataset\\\\generating-annotations\\\\images\\\\retro-games-gameplay-frames\\\\test\\\\Yakuza 3\\\\frame_0508.png\\ta screenshot from a video game shows a man in a suit and a woman in a white coat\\nE:\\\\PythonProjects\\\\Scraping Dataset\\\\generating-annotations\\\\images\\\\retro-games-gameplay-frames\\\\test\\\\Yakuza 3\\\\frame_0509.png\\ta screenshot from a video game shows a man with a knife in his hand\\nE:\\\\PythonProjects\\\\Scraping Dataset\\\\generating-annotations\\\\images\\\\retro-games-gameplay-frames\\\\test\\\\Yakuza 3\\\\frame_0510.png\\ta screenshot from a video game shows a man in a suit\\nE:\\\\PythonProjects\\\\Scraping Dataset\\\\generating-annotations\\\\images\\\\retro-games-gameplay-frames\\\\test\\\\Yakuza 3\\\\frame_0511.png\\ta screenshot from a video game shows a man in a suit\\nE:\\\\PythonProjects\\\\Scraping Dataset\\\\generating-annotations\\\\images\\\\retro-games-gameplay-frames\\\\test\\\\Yakuza 3\\\\frame_0512.png\\ta screenshot from a video game shows a man in a suit\\nE:\\\\PythonProjects\\\\Scraping Dataset\\\\generating-annotations\\\\images\\\\retro-games-gameplay-frames\\\\test\\\\Yakuza 3\\\\frame_0513.png\\ta screenshot from a video game shows a man in a suit and a woman in a dress\\nE:\\\\PythonProjects\\\\Scraping Dataset\\\\generating-annotations\\\\images\\\\retro-games-gameplay-frames\\\\test\\\\Yakuza 3\\\\frame_0514.png\\ta screenshot from a video game shows a man in a suit\\nE:\\\\PythonProjects\\\\Scraping Dataset\\\\generating-annotations\\\\images\\\\retro-games-gameplay-frames\\\\test\\\\Yakuza 3\\\\frame_0515.png\\ta screenshot from a video game shows a man with a knife in his hand\\nE:\\\\PythonProjects\\\\Scraping Dataset\\\\generating-annotations\\\\images\\\\retro-games-gameplay-frames\\\\test\\\\Yakuza 3\\\\frame_0516.png\\ta screenshot from a video game shows a man with a gun\\nE:\\\\PythonProjects\\\\Scraping Dataset\\\\generating-annotations\\\\images\\\\retro-games-gameplay-frames\\\\test\\\\Yakuza 3\\\\frame_0517.png\\ta screenshot from a video game shows a man with a face painted in black\\nE:\\\\PythonProjects\\\\Scraping Dataset\\\\generating-annotations\\\\images\\\\retro-games-gameplay-frames\\\\test\\\\Yakuza 3\\\\frame_0518.png\\ta screenshot from a video game shows two men in suits\\nE:\\\\PythonProjects\\\\Scraping Dataset\\\\generating-annotations\\\\images\\\\retro-games-gameplay-frames\\\\test\\\\Yakuza 3\\\\frame_0519.png\\ta screenshot from a video game shows two men in suits\\nE:\\\\PythonProjects\\\\Scraping Dataset\\\\generating-annotations\\\\images\\\\retro-games-gameplay-frames\\\\test\\\\Yakuza 3\\\\frame_0520.png\\ta screenshot from a video game shows two men in suits\\nE:\\\\PythonProjects\\\\Scraping Dataset\\\\generating-annotations\\\\images\\\\retro-games-gameplay-frames\\\\test\\\\Yakuza 3\\\\frame_0521.png\\ta screenshot from a video game shows two men walking in the street\\nE:\\\\PythonProjects\\\\Scraping Dataset\\\\generating-annotations\\\\images\\\\retro-games-gameplay-frames\\\\test\\\\Yakuza 3\\\\frame_0522.png\\ta screenshot from a video game shows a man with a knife in his hand\\nE:\\\\PythonProjects\\\\Scraping Dataset\\\\generating-annotations\\\\images\\\\retro-games-gameplay-frames\\\\test\\\\Yakuza 3\\\\frame_0523.png\\ta screenshot from a video game shows a man in a suit'"
      ]
     },
     "execution_count": 3,
     "metadata": {},
     "output_type": "execute_result"
    }
   ],
   "source": [
    "string = r\"\"\"E:\\PythonProjects\\Scraping Dataset\\generating-annotations\\images\\retro-games-gameplay-frames\\test\\Yakuza 3\\frame_0503.png\ta screenshot from a video game shows a man in a suit and tie\n",
    "E:\\PythonProjects\\Scraping Dataset\\generating-annotations\\images\\retro-games-gameplay-frames\\test\\Yakuza 3\\frame_0522.png\ta screenshot from a video game shows a man with a knife in his hand\n",
    "E:\\PythonProjects\\Scraping Dataset\\generating-annotations\\images\\retro-games-gameplay-frames\\test\\Yakuza 3\\frame_0521.png\ta screenshot from a video game shows two men walking in the street\n",
    "E:\\PythonProjects\\Scraping Dataset\\generating-annotations\\images\\retro-games-gameplay-frames\\test\\Yakuza 3\\frame_0502.png\ta screenshot from a video game shows a man in a suit and a woman in a dress\n",
    "E:\\PythonProjects\\Scraping Dataset\\generating-annotations\\images\\retro-games-gameplay-frames\\test\\Yakuza 3\\frame_0500.png\ta screenshot from a video game shows a man with a snake skin\n",
    "E:\\PythonProjects\\Scraping Dataset\\generating-annotations\\images\\retro-games-gameplay-frames\\test\\Yakuza 3\\frame_0493.png\ta screenshot from a video game shows a snake in a snake skin\n",
    "E:\\PythonProjects\\Scraping Dataset\\generating-annotations\\images\\retro-games-gameplay-frames\\test\\Yakuza 3\\frame_0494.png\ta screenshot from a video game shows a man with glasses and a leopard print shirt\n",
    "E:\\PythonProjects\\Scraping Dataset\\generating-annotations\\images\\retro-games-gameplay-frames\\test\\Yakuza 3\\frame_0523.png\ta screenshot from a video game shows a man in a suit\n",
    "E:\\PythonProjects\\Scraping Dataset\\generating-annotations\\images\\retro-games-gameplay-frames\\test\\Yakuza 3\\frame_0496.png\ta screenshot from a video game shows a man in a suit and a red shirt\n",
    "E:\\PythonProjects\\Scraping Dataset\\generating-annotations\\images\\retro-games-gameplay-frames\\test\\Yakuza 3\\frame_0492.png\ta screenshot from a video game shows a man with a snake skin on his arm\n",
    "E:\\PythonProjects\\Scraping Dataset\\generating-annotations\\images\\retro-games-gameplay-frames\\test\\Yakuza 3\\frame_0507.png\ta screenshot from a video game shows two men in a room\n",
    "E:\\PythonProjects\\Scraping Dataset\\generating-annotations\\images\\retro-games-gameplay-frames\\test\\Yakuza 3\\frame_0508.png\ta screenshot from a video game shows a man in a suit and a woman in a white coat\n",
    "E:\\PythonProjects\\Scraping Dataset\\generating-annotations\\images\\retro-games-gameplay-frames\\test\\Yakuza 3\\frame_0516.png\ta screenshot from a video game shows a man with a gun\n",
    "E:\\PythonProjects\\Scraping Dataset\\generating-annotations\\images\\retro-games-gameplay-frames\\test\\Yakuza 3\\frame_0511.png\ta screenshot from a video game shows a man in a suit\n",
    "E:\\PythonProjects\\Scraping Dataset\\generating-annotations\\images\\retro-games-gameplay-frames\\test\\Yakuza 3\\frame_0509.png\ta screenshot from a video game shows a man with a knife in his hand\n",
    "E:\\PythonProjects\\Scraping Dataset\\generating-annotations\\images\\retro-games-gameplay-frames\\test\\Yakuza 3\\frame_0510.png\ta screenshot from a video game shows a man in a suit\n",
    "E:\\PythonProjects\\Scraping Dataset\\generating-annotations\\images\\retro-games-gameplay-frames\\test\\Yakuza 3\\frame_0518.png\ta screenshot from a video game shows two men in suits\n",
    "E:\\PythonProjects\\Scraping Dataset\\generating-annotations\\images\\retro-games-gameplay-frames\\test\\Yakuza 3\\frame_0517.png\ta screenshot from a video game shows a man with a face painted in black\n",
    "E:\\PythonProjects\\Scraping Dataset\\generating-annotations\\images\\retro-games-gameplay-frames\\test\\Yakuza 3\\frame_0520.png\ta screenshot from a video game shows two men in suits\n",
    "E:\\PythonProjects\\Scraping Dataset\\generating-annotations\\images\\retro-games-gameplay-frames\\test\\Yakuza 3\\frame_0512.png\ta screenshot from a video game shows a man in a suit\n",
    "E:\\PythonProjects\\Scraping Dataset\\generating-annotations\\images\\retro-games-gameplay-frames\\test\\Yakuza 3\\frame_0515.png\ta screenshot from a video game shows a man with a knife in his hand\n",
    "E:\\PythonProjects\\Scraping Dataset\\generating-annotations\\images\\retro-games-gameplay-frames\\test\\Yakuza 3\\frame_0513.png\ta screenshot from a video game shows a man in a suit and a woman in a dress\n",
    "E:\\PythonProjects\\Scraping Dataset\\generating-annotations\\images\\retro-games-gameplay-frames\\test\\Yakuza 3\\frame_0499.png\ta screenshot from a video game shows a man in a suit and tie\n",
    "E:\\PythonProjects\\Scraping Dataset\\generating-annotations\\images\\retro-games-gameplay-frames\\test\\Yakuza 3\\frame_0505.png\ta screenshot from a video game shows a man in a suit\n",
    "E:\\PythonProjects\\Scraping Dataset\\generating-annotations\\images\\retro-games-gameplay-frames\\test\\Yakuza 3\\frame_0504.png\ta screenshot from a video game shows a man with a knife in his hand\n",
    "E:\\PythonProjects\\Scraping Dataset\\generating-annotations\\images\\retro-games-gameplay-frames\\test\\Yakuza 3\\frame_0519.png\ta screenshot from a video game shows two men in suits\n",
    "E:\\PythonProjects\\Scraping Dataset\\generating-annotations\\images\\retro-games-gameplay-frames\\test\\Yakuza 3\\frame_0498.png\ta screenshot from a video game shows a snake in the background\n",
    "E:\\PythonProjects\\Scraping Dataset\\generating-annotations\\images\\retro-games-gameplay-frames\\test\\Yakuza 3\\frame_0495.png\ta screenshot from a video game shows a man with a mustache and glasses\n",
    "E:\\PythonProjects\\Scraping Dataset\\generating-annotations\\images\\retro-games-gameplay-frames\\test\\Yakuza 3\\frame_0497.png\ta screenshot from a video game shows a man in a suit and a red shirt\n",
    "E:\\PythonProjects\\Scraping Dataset\\generating-annotations\\images\\retro-games-gameplay-frames\\test\\Yakuza 3\\frame_0506.png\ta screenshot from a video game shows a man in a suit and a woman in a dress\n",
    "E:\\PythonProjects\\Scraping Dataset\\generating-annotations\\images\\retro-games-gameplay-frames\\test\\Yakuza 3\\frame_0514.png\ta screenshot from a video game shows a man in a suit\n",
    "\"\"\"\n",
    "print(\"\\n\".join(sorted(string.split(\"\\n\"))))"
   ]
  }
 ],
 "metadata": {
  "kernelspec": {
   "display_name": ".venv",
   "language": "python",
   "name": "python3"
  },
  "language_info": {
   "codemirror_mode": {
    "name": "ipython",
    "version": 3
   },
   "file_extension": ".py",
   "mimetype": "text/x-python",
   "name": "python",
   "nbconvert_exporter": "python",
   "pygments_lexer": "ipython3",
   "version": "3.13.2"
  }
 },
 "nbformat": 4,
 "nbformat_minor": 5
}
