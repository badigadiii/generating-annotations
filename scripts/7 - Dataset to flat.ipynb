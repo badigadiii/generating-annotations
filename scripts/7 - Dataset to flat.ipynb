{
 "cells": [
  {
   "cell_type": "code",
   "execution_count": 34,
   "id": "a6c5f56d",
   "metadata": {},
   "outputs": [],
   "source": [
    "import os\n",
    "import pandas as pd\n",
    "from pathlib import Path\n",
    "from tqdm import tqdm\n",
    "from PIL import Image\n",
    "\n",
    "from config_file import config"
   ]
  },
  {
   "cell_type": "code",
   "execution_count": null,
   "id": "5350e522",
   "metadata": {},
   "outputs": [
    {
     "data": {
      "text/plain": [
       "['train/Final Fantasy X HD Remaster/frame_0003.png',\n",
       " 'train/Final Fantasy X HD Remaster/frame_0011.png',\n",
       " 'train/Final Fantasy X HD Remaster/frame_0018.png',\n",
       " 'train/Final Fantasy X HD Remaster/frame_0019.png',\n",
       " 'train/Final Fantasy X HD Remaster/frame_0020.png']"
      ]
     },
     "execution_count": 38,
     "metadata": {},
     "output_type": "execute_result"
    }
   ],
   "source": [
    "fold_file = Path(\"fold_3.csv\")\n",
    "fold_path = config.DATASET_PATH / \"5-folds\" / \"validation\" / fold_file\n",
    "df = pd.read_csv(fold_path)\n",
    "filenames = df[\"file_name\"].to_list()"
   ]
  },
  {
   "cell_type": "code",
   "execution_count": null,
   "id": "d56fd9bf",
   "metadata": {},
   "outputs": [
    {
     "name": "stderr",
     "output_type": "stream",
     "text": [
      "100%|██████████| 1877/1877 [00:00<00:00, 2734.01it/s]\n"
     ]
    }
   ],
   "source": [
    "# Копирование файлов из датасета в отдельные фолды\n",
    "\n",
    "output_dir = config.PROJECT_PATH / config._DATASETS_FOLDER / \"flat\" / fold_file.stem\n",
    "\n",
    "for fname in tqdm(filenames):\n",
    "    fname = Path(fname)\n",
    "    img = Image.open(config.DATASET_PATH / fname)\n",
    "    new_frame_name = output_dir / Path(\"#\".join(fname.parts))\n",
    "    new_frame_name.parent.mkdir(parents=True, exist_ok=True)\n",
    "\n",
    "    if not new_frame_name.exists():\n",
    "        img.save(new_frame_name)"
   ]
  },
  {
   "cell_type": "code",
   "execution_count": null,
   "id": "19d19e72",
   "metadata": {},
   "outputs": [
    {
     "name": "stdout",
     "output_type": "stream",
     "text": [
      "['F:\\\\Checkpoints\\\\clore-machine-ddpm-2\\\\batch-16_lr_5e-6_fold_1_128px\\\\train\\\\Deus Ex_ Invisible War\\\\frame_0001.png', 'F:\\\\Checkpoints\\\\clore-machine-ddpm-2\\\\batch-16_lr_5e-6_fold_1_128px\\\\train\\\\Deus Ex_ Invisible War\\\\frame_0002.png', 'F:\\\\Checkpoints\\\\clore-machine-ddpm-2\\\\batch-16_lr_5e-6_fold_1_128px\\\\train\\\\Deus Ex_ Invisible War\\\\frame_0003.png', 'F:\\\\Checkpoints\\\\clore-machine-ddpm-2\\\\batch-16_lr_5e-6_fold_1_128px\\\\train\\\\Deus Ex_ Invisible War\\\\frame_0004.png', 'F:\\\\Checkpoints\\\\clore-machine-ddpm-2\\\\batch-16_lr_5e-6_fold_1_128px\\\\train\\\\Deus Ex_ Invisible War\\\\frame_0005.png']\n"
     ]
    },
    {
     "name": "stderr",
     "output_type": "stream",
     "text": [
      "100%|██████████| 2118/2118 [00:05<00:00, 403.06it/s] \n"
     ]
    }
   ],
   "source": [
    "# Перевод папки с изображениями во flat\n",
    "import glob\n",
    "\n",
    "output_dir = config.PROJECT_PATH / config._DATASETS_FOLDER / \"flat\" / \"fake_batch-16_lr_5e-6_fold_1_128px\"\n",
    "input_dir = Path(r\"F:\\Checkpoints\\clore-machine-ddpm-2\\batch-16_lr_5e-6_fold_1_128px\\train\")\n",
    "\n",
    "png_files = glob.glob(str(input_dir / \"**/*.png\"))\n",
    "\n",
    "for fname in tqdm(png_files):\n",
    "    img = Image.open(input_dir / fname)\n",
    "    new_frame_name = \"#\".join(Path(fname).parts[-3:])\n",
    "\n",
    "    save_path = output_dir / new_frame_name\n",
    "    save_path.parent.mkdir(parents=True, exist_ok=True)\n",
    "\n",
    "    if not save_path.exists():\n",
    "        img.save(save_path)"
   ]
  }
 ],
 "metadata": {
  "kernelspec": {
   "display_name": ".venv",
   "language": "python",
   "name": "python3"
  },
  "language_info": {
   "codemirror_mode": {
    "name": "ipython",
    "version": 3
   },
   "file_extension": ".py",
   "mimetype": "text/x-python",
   "name": "python",
   "nbconvert_exporter": "python",
   "pygments_lexer": "ipython3",
   "version": "3.13.2"
  }
 },
 "nbformat": 4,
 "nbformat_minor": 5
}
