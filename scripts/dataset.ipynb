{
 "cells": [
  {
   "cell_type": "code",
   "execution_count": null,
   "id": "db33886f",
   "metadata": {},
   "outputs": [],
   "source": [
    "import os\n",
    "from PIL import Image\n",
    "from pathlib import Path\n",
    "import pandas as pd\n",
    "\n",
    "from config_file import config\n",
    "from dataset import RetroGames"
   ]
  },
  {
   "cell_type": "code",
   "execution_count": 22,
   "id": "3678fddb",
   "metadata": {},
   "outputs": [
    {
     "ename": "ValueError",
     "evalue": "Captions file E:\\PythonProjects\\Scraping Dataset\\generating-annotations\\images\\retro-games-gameplay-frames\\test_captions.txt doesn't exists",
     "output_type": "error",
     "traceback": [
      "\u001b[31m---------------------------------------------------------------------------\u001b[39m",
      "\u001b[31mValueError\u001b[39m                                Traceback (most recent call last)",
      "\u001b[36mCell\u001b[39m\u001b[36m \u001b[39m\u001b[32mIn[22]\u001b[39m\u001b[32m, line 5\u001b[39m\n\u001b[32m      2\u001b[39m train_captions_path = dataset_path / \u001b[33m\"\u001b[39m\u001b[33mtrain_captions.txt\u001b[39m\u001b[33m\"\u001b[39m\n\u001b[32m      3\u001b[39m test_captions_path = dataset_path / \u001b[33m\"\u001b[39m\u001b[33mtest_captions.txt\u001b[39m\u001b[33m\"\u001b[39m\n\u001b[32m----> \u001b[39m\u001b[32m5\u001b[39m retro_test = \u001b[43mRetroGames\u001b[49m\u001b[43m(\u001b[49m\u001b[43mdataset_path\u001b[49m\u001b[43m \u001b[49m\u001b[43m/\u001b[49m\u001b[43m \u001b[49m\u001b[33;43m\"\u001b[39;49m\u001b[33;43mtest\u001b[39;49m\u001b[33;43m\"\u001b[39;49m\u001b[43m,\u001b[49m\u001b[43m \u001b[49m\u001b[43mtest_captions_path\u001b[49m\u001b[43m)\u001b[49m\n\u001b[32m      6\u001b[39m retro_train = RetroGames(dataset_path / \u001b[33m\"\u001b[39m\u001b[33mtrain\u001b[39m\u001b[33m\"\u001b[39m, train_captions_path)\n\u001b[32m      8\u001b[39m \u001b[38;5;66;03m# print(\" === TEST === \")\u001b[39;00m\n\u001b[32m      9\u001b[39m \u001b[38;5;66;03m# for game in retro_test.get_games():\u001b[39;00m\n\u001b[32m     10\u001b[39m \u001b[38;5;66;03m#     print(f\"{game}: {len(retro_test.get_frames(game))} frames\")\u001b[39;00m\n\u001b[32m   (...)\u001b[39m\u001b[32m     14\u001b[39m \u001b[38;5;66;03m# for game in retro_train.get_games():\u001b[39;00m\n\u001b[32m     15\u001b[39m \u001b[38;5;66;03m#     print(f\"{game}: {len(retro_train.get_frames(game))} frames\")\u001b[39;00m\n",
      "\u001b[36mFile \u001b[39m\u001b[32me:\\PythonProjects\\Scraping Dataset\\generating-annotations\\scripts\\dataset.py:14\u001b[39m, in \u001b[36mRetroGames.__init__\u001b[39m\u001b[34m(self, path_to_folder, path_to_captions)\u001b[39m\n\u001b[32m     12\u001b[39m \u001b[38;5;28;01mif\u001b[39;00m path_to_captions:\n\u001b[32m     13\u001b[39m     \u001b[38;5;28mself\u001b[39m.path_to_captions = Path(path_to_captions)\n\u001b[32m---> \u001b[39m\u001b[32m14\u001b[39m     \u001b[38;5;28mself\u001b[39m.captions: \u001b[38;5;28mlist\u001b[39m[\u001b[38;5;28mstr\u001b[39m] = \u001b[38;5;28;43mself\u001b[39;49m\u001b[43m.\u001b[49m\u001b[43m_parse_captions\u001b[49m\u001b[43m(\u001b[49m\u001b[43m)\u001b[49m\n",
      "\u001b[36mFile \u001b[39m\u001b[32me:\\PythonProjects\\Scraping Dataset\\generating-annotations\\scripts\\dataset.py:33\u001b[39m, in \u001b[36mRetroGames._parse_captions\u001b[39m\u001b[34m(self)\u001b[39m\n\u001b[32m     31\u001b[39m \u001b[38;5;28;01mdef\u001b[39;00m\u001b[38;5;250m \u001b[39m\u001b[34m_parse_captions\u001b[39m(\u001b[38;5;28mself\u001b[39m) -> \u001b[38;5;28mdict\u001b[39m[\u001b[38;5;28mstr\u001b[39m | Path, \u001b[38;5;28mstr\u001b[39m]:\n\u001b[32m     32\u001b[39m     \u001b[38;5;28;01mif\u001b[39;00m \u001b[38;5;129;01mnot\u001b[39;00m \u001b[38;5;28mself\u001b[39m.path_to_captions.exists():\n\u001b[32m---> \u001b[39m\u001b[32m33\u001b[39m         \u001b[38;5;28;01mraise\u001b[39;00m \u001b[38;5;167;01mValueError\u001b[39;00m(\u001b[33mf\u001b[39m\u001b[33m\"\u001b[39m\u001b[33mCaptions file \u001b[39m\u001b[38;5;132;01m{\u001b[39;00m\u001b[38;5;28mself\u001b[39m.path_to_captions\u001b[38;5;132;01m}\u001b[39;00m\u001b[33m doesn\u001b[39m\u001b[33m'\u001b[39m\u001b[33mt exists\u001b[39m\u001b[33m\"\u001b[39m)\n\u001b[32m     35\u001b[39m     captions = {}\n\u001b[32m     37\u001b[39m     \u001b[38;5;28;01mwith\u001b[39;00m \u001b[38;5;28mopen\u001b[39m(\u001b[38;5;28mself\u001b[39m.path_to_captions, \u001b[33m\"\u001b[39m\u001b[33mr\u001b[39m\u001b[33m\"\u001b[39m, encoding=\u001b[33m\"\u001b[39m\u001b[33mutf-8\u001b[39m\u001b[33m\"\u001b[39m) \u001b[38;5;28;01mas\u001b[39;00m f:\n",
      "\u001b[31mValueError\u001b[39m: Captions file E:\\PythonProjects\\Scraping Dataset\\generating-annotations\\images\\retro-games-gameplay-frames\\test_captions.txt doesn't exists"
     ]
    }
   ],
   "source": [
    "dataset_path = config.DATASET_PATH\n",
    "train_captions_path = dataset_path / \"train_captions.txt\"\n",
    "test_captions_path = dataset_path / \"test_captions.txt\"\n",
    "\n",
    "retro_test = RetroGames(dataset_path / \"test\", test_captions_path)\n",
    "retro_train = RetroGames(dataset_path / \"train\", train_captions_path)\n",
    "\n",
    "# print(\" === TEST === \")\n",
    "# for game in retro_test.get_games():\n",
    "#     print(f\"{game}: {len(retro_test.get_frames(game))} frames\")\n",
    "\n",
    "# print()\n",
    "# print(\" === TRAIN === \")\n",
    "# for game in retro_train.get_games():\n",
    "#     print(f\"{game}: {len(retro_train.get_frames(game))} frames\")"
   ]
  },
  {
   "cell_type": "code",
   "execution_count": 3,
   "id": "6fd8d98f",
   "metadata": {},
   "outputs": [],
   "source": [
    "output_dir = config.IMAGES_PATH / \"retro-games-shorts\"\n",
    "train_dir = output_dir / \"train\"\n",
    "test_dir = output_dir / \"test\"\n",
    "metadata_filepath_csv = output_dir / \"metadata.csv\""
   ]
  },
  {
   "cell_type": "code",
   "execution_count": 4,
   "id": "437f8973",
   "metadata": {},
   "outputs": [],
   "source": [
    "test_games = [\"Bayonetta\"]\n",
    "train_games = [\"Devil May Cry 2\", \"Prince of Persia_ Warrior Within\", \"BioShock\"]\n",
    "\n",
    "max_size = 200\n",
    "\n",
    "metadata = []\n",
    "\n",
    "for game in test_games:\n",
    "    frames = retro_test.get_frames(game)[:max_size]\n",
    "    captions = [retro_test.get_caption(frame) for frame in frames]\n",
    "\n",
    "    os.makedirs(output_dir / \"test\" / game, exist_ok=True)\n",
    "\n",
    "    for frame in frames:\n",
    "        frame_name = frame.parts[-1]\n",
    "\n",
    "        caption = retro_test.get_caption(frame)\n",
    "        rel_frame_path = str(Path(os.path.join(*frame.parts[-3:]))) # Getting relative path from metadata.txt directory...\n",
    "        metadata.append([rel_frame_path, caption])\n",
    "\n",
    "        if not (output_dir / \"test\" / game / frame_name).exists:\n",
    "            img = retro_test.get_image_frame(frame)\n",
    "            img.save(output_dir / \"test\" / game / frame_name)\n",
    "\n",
    "for game in train_games:\n",
    "    frames = retro_train.get_frames(game)[:max_size]\n",
    "    captions = [retro_train.get_caption(frame) for frame in frames]\n",
    "\n",
    "    os.makedirs(output_dir / \"train\" / game, exist_ok=True)\n",
    "    \n",
    "    for frame in frames:\n",
    "        frame_name = frame.parts[-1]\n",
    "\n",
    "        caption = retro_train.get_caption(frame)\n",
    "        rel_frame_path = str(Path(os.path.join(*frame.parts[-3:]))) # Getting relative path from metadata.txt directory...\n",
    "        metadata.append([rel_frame_path, caption])\n",
    "\n",
    "    if not (output_dir / \"train\" / game / frame_name).exists:\n",
    "        img = retro_train.get_image_frame(frame)\n",
    "        img.save(output_dir / \"train\" / game / frame_name)"
   ]
  },
  {
   "cell_type": "code",
   "execution_count": null,
   "id": "f3486800",
   "metadata": {},
   "outputs": [],
   "source": [
    "# df = pd.DataFrame(metadata, columns=[\"file_name\", \"caption\"])\n",
    "# df.to_csv(metadata_filepath_csv, index=False)"
   ]
  },
  {
   "cell_type": "code",
   "execution_count": 8,
   "id": "d2384a9f",
   "metadata": {},
   "outputs": [],
   "source": [
    "big_metadata = []\n",
    "\n",
    "with open(dataset_path / \"test_captions.txt\") as f:\n",
    "    for line in f:\n",
    "        file_name, caption = line.split(\"\\t\")\n",
    "        file_name = str(Path(os.path.join(*frame.parts[-3:])))\n",
    "        caption = caption.strip()\n",
    "\n",
    "        big_metadata.append([file_name, caption])\n",
    "\n",
    "with open(dataset_path / \"train_captions.txt\") as f:\n",
    "    for line in f:\n",
    "        file_name, caption = line.split(\"\\t\")\n",
    "        file_name = str(Path(os.path.join(*frame.parts[-3:])))\n",
    "        caption = caption.strip()\n",
    "\n",
    "        big_metadata.append([file_name, caption])"
   ]
  },
  {
   "cell_type": "code",
   "execution_count": 43,
   "id": "c54451bd",
   "metadata": {},
   "outputs": [],
   "source": [
    "retro_test = RetroGames(dataset_path / \"test\")\n",
    "retro_train = RetroGames(dataset_path / \"train\")\n",
    "\n",
    "all_frames = list(retro_test.get_all_frames()) + list(retro_train.get_all_frames())\n",
    "new_frames = [os.path.join(*frame.parts[-3:]) for frame in all_frames]"
   ]
  },
  {
   "cell_type": "code",
   "execution_count": null,
   "id": "7898db4c",
   "metadata": {},
   "outputs": [],
   "source": [
    "df = pd.read_csv(dataset_path / \"metadata.csv\")\n",
    "\n",
    "df['file_name'] = new_frames\n",
    "df.to_csv(dataset_path / \"metadata.csv\", index=False)"
   ]
  },
  {
   "cell_type": "code",
   "execution_count": null,
   "id": "6b6fbf02",
   "metadata": {},
   "outputs": [],
   "source": [
    "from datasets import load_dataset"
   ]
  },
  {
   "cell_type": "code",
   "execution_count": 53,
   "id": "b2fb3172",
   "metadata": {},
   "outputs": [
    {
     "data": {
      "text/plain": [
       "DatasetDict({\n",
       "    train: Dataset({\n",
       "        features: ['file_name', 'caption', 'split'],\n",
       "        num_rows: 507\n",
       "    })\n",
       "    test: Dataset({\n",
       "        features: ['file_name', 'caption', 'split'],\n",
       "        num_rows: 507\n",
       "    })\n",
       "})"
      ]
     },
     "execution_count": 53,
     "metadata": {},
     "output_type": "execute_result"
    }
   ],
   "source": [
    "test_path = config.IMAGES_PATH / \"retro-games-shorts\" # \"retro-games-shorts\" # retro-games-gameplay-frames\n",
    "dataset = load_dataset(str(test_path))\n",
    "dataset"
   ]
  },
  {
   "cell_type": "code",
   "execution_count": 20,
   "id": "c70c7755",
   "metadata": {},
   "outputs": [
    {
     "data": {
      "text/plain": [
       "{'file_name': 'test\\\\Bayonetta\\\\frame_0050.png',\n",
       " 'caption': 'a screenshot from a video game shows a group of undead zombies in a forest',\n",
       " 'split': 'test'}"
      ]
     },
     "execution_count": 20,
     "metadata": {},
     "output_type": "execute_result"
    }
   ],
   "source": [
    "# dataset['train'][10]"
   ]
  }
 ],
 "metadata": {
  "kernelspec": {
   "display_name": ".venv",
   "language": "python",
   "name": "python3"
  },
  "language_info": {
   "codemirror_mode": {
    "name": "ipython",
    "version": 3
   },
   "file_extension": ".py",
   "mimetype": "text/x-python",
   "name": "python",
   "nbconvert_exporter": "python",
   "pygments_lexer": "ipython3",
   "version": "3.13.2"
  }
 },
 "nbformat": 4,
 "nbformat_minor": 5
}
