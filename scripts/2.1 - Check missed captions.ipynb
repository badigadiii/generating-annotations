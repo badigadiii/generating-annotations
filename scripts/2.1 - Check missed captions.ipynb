{
 "cells": [
  {
   "cell_type": "code",
   "execution_count": 1,
   "id": "7f1fe25b",
   "metadata": {},
   "outputs": [],
   "source": [
    "import os\n",
    "from pathlib import Path\n",
    "\n",
    "from config_file import config"
   ]
  },
  {
   "cell_type": "code",
   "execution_count": 2,
   "id": "aca71de1",
   "metadata": {},
   "outputs": [],
   "source": [
    "dataset_path = config.IMAGES_PATH / config.DATASET_NAME\n",
    "game_folders = list((dataset_path / \"train\").iterdir())\n",
    "\n",
    "frames = list((dataset_path / \"train\").glob(\"**/*.png\"))\n",
    "\n",
    "with open(dataset_path / \"test_captions.txt\", \"r\") as f:\n",
    "    captioned_frames = set([Path(line.split('\\t')[0]) for line in f.readlines()])\n",
    "\n",
    "\n",
    "not_captioned_frames = list(set(frames) - captioned_frames)"
   ]
  },
  {
   "cell_type": "code",
   "execution_count": 92,
   "id": "02c31172",
   "metadata": {},
   "outputs": [
    {
     "data": {
      "text/plain": [
       "[WindowsPath('E:/PythonProjects/Scraping Dataset/generating-annotations/images/retro-games-gameplay-frames-30k-512p/test/Yakuza 3/frame_0501.png')]"
      ]
     },
     "execution_count": 92,
     "metadata": {},
     "output_type": "execute_result"
    }
   ],
   "source": [
    "sorted(not_captioned_frames)"
   ]
  },
  {
   "cell_type": "code",
   "execution_count": 93,
   "id": "4fbeef79",
   "metadata": {},
   "outputs": [
    {
     "name": "stdout",
     "output_type": "stream",
     "text": [
      "1\n"
     ]
    }
   ],
   "source": [
    "def chunks(lst, n):\n",
    "    for i in range(0, len(lst), n):\n",
    "        yield lst[i : i + n]\n",
    "\n",
    "batch_size = 32\n",
    "\n",
    "for chunk in chunks(frames, batch_size):\n",
    "    chunk = [frame for frame in chunk if frame not in captioned_frames]\n",
    "    if len(chunk):\n",
    "        print(len(chunk))"
   ]
  },
  {
   "cell_type": "code",
   "execution_count": 94,
   "id": "a362f447",
   "metadata": {},
   "outputs": [
    {
     "name": "stdout",
     "output_type": "stream",
     "text": [
      "1\n"
     ]
    }
   ],
   "source": [
    "batch_size = 10\n",
    "\n",
    "for chunk in chunks(not_captioned_frames, batch_size):\n",
    "    if len(chunk):\n",
    "        print(len(chunk))"
   ]
  }
 ],
 "metadata": {
  "kernelspec": {
   "display_name": ".venv",
   "language": "python",
   "name": "python3"
  },
  "language_info": {
   "codemirror_mode": {
    "name": "ipython",
    "version": 3
   },
   "file_extension": ".py",
   "mimetype": "text/x-python",
   "name": "python",
   "nbconvert_exporter": "python",
   "pygments_lexer": "ipython3",
   "version": "3.13.2"
  }
 },
 "nbformat": 4,
 "nbformat_minor": 5
}
