{
 "cells": [
  {
   "cell_type": "code",
   "execution_count": 2,
   "id": "9178358b",
   "metadata": {},
   "outputs": [
    {
     "name": "stderr",
     "output_type": "stream",
     "text": [
      "e:\\PythonProjects\\Scraping Dataset\\generating-annotations\\.venv\\Lib\\site-packages\\tqdm\\auto.py:21: TqdmWarning: IProgress not found. Please update jupyter and ipywidgets. See https://ipywidgets.readthedocs.io/en/stable/user_install.html\n",
      "  from .autonotebook import tqdm as notebook_tqdm\n"
     ]
    }
   ],
   "source": [
    "from config_file import config\n",
    "from dataset import RetroGamesHelper\n",
    "import pandas as pd\n",
    "from pathlib import Path\n",
    "from PIL import Image\n",
    "from datasets import load_dataset"
   ]
  },
  {
   "cell_type": "code",
   "execution_count": 92,
   "id": "27b55cb5",
   "metadata": {},
   "outputs": [],
   "source": [
    "def sanitize_filename(name):\n",
    "    special = \"\\\\/:*?\\\"<>|+'\"\n",
    "    new_name = \"\".join(c if c not in special else \"_\" for c in name)\n",
    "\n",
    "    if new_name[-1] in \" .\":\n",
    "        new_name = new_name[:-1] + \"_\"\n",
    "\n",
    "    return new_name"
   ]
  },
  {
   "cell_type": "code",
   "execution_count": 114,
   "id": "bc220b98",
   "metadata": {},
   "outputs": [
    {
     "name": "stderr",
     "output_type": "stream",
     "text": [
      "Generating train split: 16828 examples [00:00, 256226.71 examples/s]\n",
      "Generating test split: 6516 examples [00:00, 411976.14 examples/s]\n"
     ]
    }
   ],
   "source": [
    "dataset_path = config.DATASET_PATH\n",
    "d = load_dataset(str(dataset_path))"
   ]
  },
  {
   "cell_type": "code",
   "execution_count": 118,
   "id": "7920246b",
   "metadata": {},
   "outputs": [
    {
     "ename": "KeyError",
     "evalue": "\"Invalid key: 0. Please first select a split. For example: `my_dataset_dictionary['train'][0]`. Available splits: ['train']\"",
     "output_type": "error",
     "traceback": [
      "\u001b[31m---------------------------------------------------------------------------\u001b[39m",
      "\u001b[31mKeyError\u001b[39m                                  Traceback (most recent call last)",
      "\u001b[36mCell\u001b[39m\u001b[36m \u001b[39m\u001b[32mIn[118]\u001b[39m\u001b[32m, line 1\u001b[39m\n\u001b[32m----> \u001b[39m\u001b[32m1\u001b[39m \u001b[43mload_dataset\u001b[49m\u001b[43m(\u001b[49m\u001b[38;5;28;43mstr\u001b[39;49m\u001b[43m(\u001b[49m\u001b[43mdataset_path\u001b[49m\u001b[43m)\u001b[49m\u001b[43m,\u001b[49m\u001b[43m \u001b[49m\u001b[33;43m\"\u001b[39;49m\u001b[33;43mgames_info\u001b[39;49m\u001b[33;43m\"\u001b[39;49m\u001b[43m)\u001b[49m\u001b[43m[\u001b[49m\u001b[32;43m0\u001b[39;49m\u001b[43m]\u001b[49m\n",
      "\u001b[36mFile \u001b[39m\u001b[32me:\\PythonProjects\\Scraping Dataset\\generating-annotations\\.venv\\Lib\\site-packages\\datasets\\dataset_dict.py:87\u001b[39m, in \u001b[36mDatasetDict.__getitem__\u001b[39m\u001b[34m(self, k)\u001b[39m\n\u001b[32m     83\u001b[39m available_suggested_splits = [\n\u001b[32m     84\u001b[39m     split \u001b[38;5;28;01mfor\u001b[39;00m split \u001b[38;5;129;01min\u001b[39;00m (Split.TRAIN, Split.TEST, Split.VALIDATION) \u001b[38;5;28;01mif\u001b[39;00m split \u001b[38;5;129;01min\u001b[39;00m \u001b[38;5;28mself\u001b[39m\n\u001b[32m     85\u001b[39m ]\n\u001b[32m     86\u001b[39m suggested_split = available_suggested_splits[\u001b[32m0\u001b[39m] \u001b[38;5;28;01mif\u001b[39;00m available_suggested_splits \u001b[38;5;28;01melse\u001b[39;00m \u001b[38;5;28mlist\u001b[39m(\u001b[38;5;28mself\u001b[39m)[\u001b[32m0\u001b[39m]\n\u001b[32m---> \u001b[39m\u001b[32m87\u001b[39m \u001b[38;5;28;01mraise\u001b[39;00m \u001b[38;5;167;01mKeyError\u001b[39;00m(\n\u001b[32m     88\u001b[39m     \u001b[33mf\u001b[39m\u001b[33m\"\u001b[39m\u001b[33mInvalid key: \u001b[39m\u001b[38;5;132;01m{\u001b[39;00mk\u001b[38;5;132;01m}\u001b[39;00m\u001b[33m. Please first select a split. For example: \u001b[39m\u001b[33m\"\u001b[39m\n\u001b[32m     89\u001b[39m     \u001b[33mf\u001b[39m\u001b[33m\"\u001b[39m\u001b[33m`my_dataset_dictionary[\u001b[39m\u001b[33m'\u001b[39m\u001b[38;5;132;01m{\u001b[39;00msuggested_split\u001b[38;5;132;01m}\u001b[39;00m\u001b[33m'\u001b[39m\u001b[33m][\u001b[39m\u001b[38;5;132;01m{\u001b[39;00mk\u001b[38;5;132;01m}\u001b[39;00m\u001b[33m]`. \u001b[39m\u001b[33m\"\u001b[39m\n\u001b[32m     90\u001b[39m     \u001b[33mf\u001b[39m\u001b[33m\"\u001b[39m\u001b[33mAvailable splits: \u001b[39m\u001b[38;5;132;01m{\u001b[39;00m\u001b[38;5;28msorted\u001b[39m(\u001b[38;5;28mself\u001b[39m)\u001b[38;5;132;01m}\u001b[39;00m\u001b[33m\"\u001b[39m\n\u001b[32m     91\u001b[39m )\n",
      "\u001b[31mKeyError\u001b[39m: \"Invalid key: 0. Please first select a split. For example: `my_dataset_dictionary['train'][0]`. Available splits: ['train']\""
     ]
    }
   ],
   "source": [
    "load_dataset(str(dataset_path), \"games_info\")[0]"
   ]
  },
  {
   "cell_type": "code",
   "execution_count": null,
   "id": "692526d5",
   "metadata": {},
   "outputs": [],
   "source": [
    "test_df = pd.read_csv(config.DATA_PATH / \"test_games_genres_igdb.csv\")\n",
    "train_df = pd.read_csv(config.DATA_PATH / \"train_games_genres_igdb.csv\")\n",
    "# game_titles = pd.DataFrame(pd.concat(\n",
    "#     [test_df[\"title\"],\n",
    "#     train_df[\"title\"]]\n",
    "# ))\n",
    "# game_titles[\"game_folder\"] = game_titles[\"title\"].apply(sanitize_filename)\n",
    "# game_titles.to_csv(config.DATA_PATH / \"name_transform.csv\", index=False)"
   ]
  },
  {
   "cell_type": "code",
   "execution_count": 96,
   "id": "8d7be316",
   "metadata": {},
   "outputs": [
    {
     "data": {
      "text/html": [
       "<div>\n",
       "<style scoped>\n",
       "    .dataframe tbody tr th:only-of-type {\n",
       "        vertical-align: middle;\n",
       "    }\n",
       "\n",
       "    .dataframe tbody tr th {\n",
       "        vertical-align: top;\n",
       "    }\n",
       "\n",
       "    .dataframe thead th {\n",
       "        text-align: right;\n",
       "    }\n",
       "</style>\n",
       "<table border=\"1\" class=\"dataframe\">\n",
       "  <thead>\n",
       "    <tr style=\"text-align: right;\">\n",
       "      <th></th>\n",
       "      <th>title</th>\n",
       "      <th>game_folder</th>\n",
       "    </tr>\n",
       "  </thead>\n",
       "  <tbody>\n",
       "    <tr>\n",
       "      <th>0</th>\n",
       "      <td>Bayonetta</td>\n",
       "      <td>Bayonetta</td>\n",
       "    </tr>\n",
       "    <tr>\n",
       "      <th>1</th>\n",
       "      <td>Call of Juarez: Bound In Blood</td>\n",
       "      <td>Call of Juarez_ Bound In Blood</td>\n",
       "    </tr>\n",
       "    <tr>\n",
       "      <th>2</th>\n",
       "      <td>Demon's Souls</td>\n",
       "      <td>Demon_s Souls</td>\n",
       "    </tr>\n",
       "    <tr>\n",
       "      <th>3</th>\n",
       "      <td>F.E.A.R.</td>\n",
       "      <td>F.E.A.R_</td>\n",
       "    </tr>\n",
       "    <tr>\n",
       "      <th>4</th>\n",
       "      <td>Kingdom Hearts II Final Mix</td>\n",
       "      <td>Kingdom Hearts II Final Mix</td>\n",
       "    </tr>\n",
       "    <tr>\n",
       "      <th>...</th>\n",
       "      <td>...</td>\n",
       "      <td>...</td>\n",
       "    </tr>\n",
       "    <tr>\n",
       "      <th>59</th>\n",
       "      <td>Tomb Raider II</td>\n",
       "      <td>Tomb Raider II</td>\n",
       "    </tr>\n",
       "    <tr>\n",
       "      <th>60</th>\n",
       "      <td>Tomb Raider: Anniversary</td>\n",
       "      <td>Tomb Raider_ Anniversary</td>\n",
       "    </tr>\n",
       "    <tr>\n",
       "      <th>61</th>\n",
       "      <td>Uncharted: Drake's Fortune</td>\n",
       "      <td>Uncharted_ Drake_s Fortune</td>\n",
       "    </tr>\n",
       "    <tr>\n",
       "      <th>62</th>\n",
       "      <td>Warcraft III: Reign of Chaos</td>\n",
       "      <td>Warcraft III_ Reign of Chaos</td>\n",
       "    </tr>\n",
       "    <tr>\n",
       "      <th>63</th>\n",
       "      <td>World of Warcraft</td>\n",
       "      <td>World of Warcraft</td>\n",
       "    </tr>\n",
       "  </tbody>\n",
       "</table>\n",
       "<p>64 rows × 2 columns</p>\n",
       "</div>"
      ],
      "text/plain": [
       "                             title                     game_folder\n",
       "0                        Bayonetta                       Bayonetta\n",
       "1   Call of Juarez: Bound In Blood  Call of Juarez_ Bound In Blood\n",
       "2                    Demon's Souls                   Demon_s Souls\n",
       "3                         F.E.A.R.                        F.E.A.R_\n",
       "4      Kingdom Hearts II Final Mix     Kingdom Hearts II Final Mix\n",
       "..                             ...                             ...\n",
       "59                  Tomb Raider II                  Tomb Raider II\n",
       "60        Tomb Raider: Anniversary        Tomb Raider_ Anniversary\n",
       "61      Uncharted: Drake's Fortune      Uncharted_ Drake_s Fortune\n",
       "62    Warcraft III: Reign of Chaos    Warcraft III_ Reign of Chaos\n",
       "63               World of Warcraft               World of Warcraft\n",
       "\n",
       "[64 rows x 2 columns]"
      ]
     },
     "execution_count": 96,
     "metadata": {},
     "output_type": "execute_result"
    }
   ],
   "source": [
    "name_transform = pd.read_csv(config.DATASET_PATH / \"name_transform.csv\")\n",
    "\n",
    "def transform_name(name: str, name_transform):\n",
    "    result = name_transform.loc[name_transform[\"title\"] == name][\"game_folder\"]\n",
    "    return result.to_list()[0]\n",
    "\n",
    "name_transform"
   ]
  },
  {
   "cell_type": "code",
   "execution_count": 97,
   "id": "446dff26",
   "metadata": {},
   "outputs": [
    {
     "data": {
      "text/plain": [
       "'F.E.A.R_'"
      ]
     },
     "execution_count": 97,
     "metadata": {},
     "output_type": "execute_result"
    }
   ],
   "source": [
    "transform_name(\"F.E.A.R.\", name_transform)"
   ]
  },
  {
   "cell_type": "code",
   "execution_count": null,
   "id": "41cf8c8b",
   "metadata": {},
   "outputs": [],
   "source": [
    "test_df[\"split\"] = \"test\"\n",
    "train_df[\"split\"] = \"train\"\n",
    "games_info = pd.concat([train_df, test_df])\n",
    "\n",
    "\n",
    "def get_game_frames_count(game: str):\n",
    "    item = games_info.loc[games_info[\"title\"] == game]\n",
    "    game_split = item[\"split\"].to_list()[0]\n",
    "    game_dir_path = dataset_path / game_split / transform_name(game, name_transform)\n",
    "    frames_count = len(list(game_dir_path.glob('**/*.png')))\n",
    "    return frames_count\n",
    "\n",
    "games_info[\"frames_count\"] = games_info[\"title\"].apply(get_game_frames_count)\n",
    "# games_info\n",
    "# games_info.to_csv(config.DATASET_PATH / \"games_info.csv\", index=False)"
   ]
  },
  {
   "cell_type": "code",
   "execution_count": null,
   "id": "89d47fcd",
   "metadata": {},
   "outputs": [],
   "source": [
    "genres_distribution = {}\n",
    "\n",
    "for index, row in games_info:\n",
    "    "
   ]
  }
 ],
 "metadata": {
  "kernelspec": {
   "display_name": ".venv",
   "language": "python",
   "name": "python3"
  },
  "language_info": {
   "codemirror_mode": {
    "name": "ipython",
    "version": 3
   },
   "file_extension": ".py",
   "mimetype": "text/x-python",
   "name": "python",
   "nbconvert_exporter": "python",
   "pygments_lexer": "ipython3",
   "version": "3.13.2"
  }
 },
 "nbformat": 4,
 "nbformat_minor": 5
}
