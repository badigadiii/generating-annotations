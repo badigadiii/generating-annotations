{
 "cells": [
  {
   "cell_type": "code",
   "execution_count": 27,
   "id": "82a98c2a",
   "metadata": {},
   "outputs": [],
   "source": [
    "import pandas as pd\n",
    "from config_file import config"
   ]
  },
  {
   "cell_type": "code",
   "execution_count": 2,
   "id": "e1148925",
   "metadata": {},
   "outputs": [],
   "source": [
    "actual_games = pd.read_csv(r\"E:\\PythonProjects\\Scraping Dataset\\generating-annotations\\datasets\\retro-games-gameplay-frames\\games_info.csv\")\n",
    "to_download = pd.read_csv(r\"E:\\PythonProjects\\Scraping Dataset\\generating-annotations\\data\\videos2.csv\")"
   ]
  },
  {
   "cell_type": "code",
   "execution_count": 4,
   "id": "b8f7cdea",
   "metadata": {},
   "outputs": [
    {
     "data": {
      "text/html": [
       "<div>\n",
       "<style scoped>\n",
       "    .dataframe tbody tr th:only-of-type {\n",
       "        vertical-align: middle;\n",
       "    }\n",
       "\n",
       "    .dataframe tbody tr th {\n",
       "        vertical-align: top;\n",
       "    }\n",
       "\n",
       "    .dataframe thead th {\n",
       "        text-align: right;\n",
       "    }\n",
       "</style>\n",
       "<table border=\"1\" class=\"dataframe\">\n",
       "  <thead>\n",
       "    <tr style=\"text-align: right;\">\n",
       "      <th></th>\n",
       "      <th>title</th>\n",
       "      <th>folder</th>\n",
       "      <th>split</th>\n",
       "      <th>frames_count</th>\n",
       "      <th>genres</th>\n",
       "    </tr>\n",
       "  </thead>\n",
       "  <tbody>\n",
       "    <tr>\n",
       "      <th>0</th>\n",
       "      <td>Assassin's Creed</td>\n",
       "      <td>Assassin_s Creed</td>\n",
       "      <td>train</td>\n",
       "      <td>327</td>\n",
       "      <td>Role-playing (RPG), Adventure</td>\n",
       "    </tr>\n",
       "    <tr>\n",
       "      <th>1</th>\n",
       "      <td>Assassin's Creed II</td>\n",
       "      <td>Assassin_s Creed II</td>\n",
       "      <td>train</td>\n",
       "      <td>779</td>\n",
       "      <td>Platform, Adventure</td>\n",
       "    </tr>\n",
       "    <tr>\n",
       "      <th>2</th>\n",
       "      <td>Call of Duty 4: Modern Warfare</td>\n",
       "      <td>Call of Duty 4_ Modern Warfare</td>\n",
       "      <td>train</td>\n",
       "      <td>547</td>\n",
       "      <td>Shooter, Simulator</td>\n",
       "    </tr>\n",
       "    <tr>\n",
       "      <th>3</th>\n",
       "      <td>Crysis</td>\n",
       "      <td>Crysis</td>\n",
       "      <td>train</td>\n",
       "      <td>417</td>\n",
       "      <td>Shooter, Adventure</td>\n",
       "    </tr>\n",
       "    <tr>\n",
       "      <th>4</th>\n",
       "      <td>Deus Ex: Invisible War</td>\n",
       "      <td>Deus Ex_ Invisible War</td>\n",
       "      <td>train</td>\n",
       "      <td>298</td>\n",
       "      <td>Shooter, Role-playing (RPG)</td>\n",
       "    </tr>\n",
       "  </tbody>\n",
       "</table>\n",
       "</div>"
      ],
      "text/plain": [
       "                            title                          folder  split  \\\n",
       "0                Assassin's Creed                Assassin_s Creed  train   \n",
       "1             Assassin's Creed II             Assassin_s Creed II  train   \n",
       "2  Call of Duty 4: Modern Warfare  Call of Duty 4_ Modern Warfare  train   \n",
       "3                          Crysis                          Crysis  train   \n",
       "4          Deus Ex: Invisible War          Deus Ex_ Invisible War  train   \n",
       "\n",
       "   frames_count                         genres  \n",
       "0           327  Role-playing (RPG), Adventure  \n",
       "1           779            Platform, Adventure  \n",
       "2           547             Shooter, Simulator  \n",
       "3           417             Shooter, Adventure  \n",
       "4           298    Shooter, Role-playing (RPG)  "
      ]
     },
     "execution_count": 4,
     "metadata": {},
     "output_type": "execute_result"
    }
   ],
   "source": [
    "actual_games.head()"
   ]
  },
  {
   "cell_type": "code",
   "execution_count": 22,
   "id": "89cbfa33",
   "metadata": {},
   "outputs": [
    {
     "data": {
      "text/plain": [
       "34"
      ]
     },
     "execution_count": 22,
     "metadata": {},
     "output_type": "execute_result"
    }
   ],
   "source": [
    "len(actual_games_list)"
   ]
  },
  {
   "cell_type": "code",
   "execution_count": 28,
   "id": "d85a8e27",
   "metadata": {},
   "outputs": [],
   "source": [
    "def is_actual(item, actual_games_list):\n",
    "    return item in actual_games_list\n",
    "actual_games_list = actual_games[actual_games[\"split\"] == \"train\"][\"title\"].to_list()\n",
    "\n",
    "df = to_download[to_download[\"game\"].apply(is_actual, actual_games_list=actual_games_list)]"
   ]
  },
  {
   "cell_type": "code",
   "execution_count": 30,
   "id": "c9889d82",
   "metadata": {},
   "outputs": [],
   "source": [
    "df.to_csv(config.DATA_PATH / \"videos22.csv\", index=False)"
   ]
  }
 ],
 "metadata": {
  "kernelspec": {
   "display_name": ".venv",
   "language": "python",
   "name": "python3"
  },
  "language_info": {
   "codemirror_mode": {
    "name": "ipython",
    "version": 3
   },
   "file_extension": ".py",
   "mimetype": "text/x-python",
   "name": "python",
   "nbconvert_exporter": "python",
   "pygments_lexer": "ipython3",
   "version": "3.13.2"
  }
 },
 "nbformat": 4,
 "nbformat_minor": 5
}
