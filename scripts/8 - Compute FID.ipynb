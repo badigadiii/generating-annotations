{
 "cells": [
  {
   "cell_type": "code",
   "execution_count": 8,
   "id": "83093432",
   "metadata": {},
   "outputs": [],
   "source": [
    "import pandas as pd\n",
    "from pathlib import Path\n",
    "from cleanfid import fid\n",
    "\n",
    "from config_file import config"
   ]
  },
  {
   "cell_type": "code",
   "execution_count": 6,
   "id": "aedfe1d9",
   "metadata": {},
   "outputs": [],
   "source": [
    "fake_dir = config.PROJECT_PATH / config._DATASETS_FOLDER / \"flat\" / \"fake_batch-16_lr_5e-6_fold_1_128px\"\n",
    "real_dir = config.PROJECT_PATH / config._DATASETS_FOLDER / \"flat\" / \"fold_1\""
   ]
  },
  {
   "cell_type": "code",
   "execution_count": 11,
   "id": "c5f2d0d9",
   "metadata": {},
   "outputs": [
    {
     "name": "stdout",
     "output_type": "stream",
     "text": [
      "compute FID between two folders\n",
      "Found 4236 images in the folder E:\\PythonProjects\\Scraping Dataset\\generating-annotations\\datasets\\flat\\fake_batch-16_lr_5e-6_fold_1_128px\n"
     ]
    },
    {
     "name": "stderr",
     "output_type": "stream",
     "text": [
      "FID fake_batch-16_lr_5e-6_fold_1_128px : 100%|██████████| 133/133 [01:14<00:00,  1.79it/s]\n"
     ]
    },
    {
     "name": "stdout",
     "output_type": "stream",
     "text": [
      "Found 4236 images in the folder E:\\PythonProjects\\Scraping Dataset\\generating-annotations\\datasets\\flat\\fold_1\n"
     ]
    },
    {
     "name": "stderr",
     "output_type": "stream",
     "text": [
      "FID fold_1 : 100%|██████████| 133/133 [02:25<00:00,  1.09s/it]\n"
     ]
    }
   ],
   "source": [
    "score = fid.compute_fid(str(fake_dir), str(real_dir), mode=\"clean\", num_workers=0)"
   ]
  },
  {
   "cell_type": "code",
   "execution_count": 12,
   "id": "bd519ac2",
   "metadata": {},
   "outputs": [
    {
     "data": {
      "text/plain": [
       "np.float64(85.71816247211075)"
      ]
     },
     "execution_count": 12,
     "metadata": {},
     "output_type": "execute_result"
    }
   ],
   "source": [
    "score"
   ]
  }
 ],
 "metadata": {
  "kernelspec": {
   "display_name": ".venv",
   "language": "python",
   "name": "python3"
  },
  "language_info": {
   "codemirror_mode": {
    "name": "ipython",
    "version": 3
   },
   "file_extension": ".py",
   "mimetype": "text/x-python",
   "name": "python",
   "nbconvert_exporter": "python",
   "pygments_lexer": "ipython3",
   "version": "3.13.2"
  }
 },
 "nbformat": 4,
 "nbformat_minor": 5
}
