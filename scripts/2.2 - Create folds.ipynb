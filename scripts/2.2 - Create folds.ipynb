{
 "cells": [
  {
   "cell_type": "code",
   "execution_count": 3,
   "id": "0aea2502",
   "metadata": {},
   "outputs": [],
   "source": [
    "import os\n",
    "from pathlib import Path\n",
    "import pandas as pd\n",
    "\n",
    "from config_file import config"
   ]
  },
  {
   "cell_type": "code",
   "execution_count": null,
   "id": "75c50c98",
   "metadata": {},
   "outputs": [],
   "source": [
    "dataset_path = config.DATASET_PATH\n",
    "folds_dir = dataset_path / \"5-folds\"\n",
    "os.makedirs(folds_dir, exist_ok=True)\n",
    "os.makedirs(folds_dir / \"validation\", exist_ok=True)\n",
    "os.makedirs(folds_dir / \"train\", exist_ok=True)"
   ]
  },
  {
   "cell_type": "code",
   "execution_count": 37,
   "id": "eb3ecc06",
   "metadata": {},
   "outputs": [],
   "source": [
    "train = pd.read_csv(dataset_path / \"train.csv\")\n",
    "games_info = pd.read_csv(dataset_path / \"games_info.csv\")"
   ]
  },
  {
   "cell_type": "code",
   "execution_count": 36,
   "id": "4e3594f6",
   "metadata": {},
   "outputs": [
    {
     "data": {
      "text/html": [
       "<div>\n",
       "<style scoped>\n",
       "    .dataframe tbody tr th:only-of-type {\n",
       "        vertical-align: middle;\n",
       "    }\n",
       "\n",
       "    .dataframe tbody tr th {\n",
       "        vertical-align: top;\n",
       "    }\n",
       "\n",
       "    .dataframe thead th {\n",
       "        text-align: right;\n",
       "    }\n",
       "</style>\n",
       "<table border=\"1\" class=\"dataframe\">\n",
       "  <thead>\n",
       "    <tr style=\"text-align: right;\">\n",
       "      <th></th>\n",
       "      <th>file_name</th>\n",
       "      <th>caption</th>\n",
       "    </tr>\n",
       "  </thead>\n",
       "  <tbody>\n",
       "    <tr>\n",
       "      <th>0</th>\n",
       "      <td>train/Assassin_s Creed II/frame_0001.png</td>\n",
       "      <td>a screenshot from a video game shows a man and...</td>\n",
       "    </tr>\n",
       "    <tr>\n",
       "      <th>1</th>\n",
       "      <td>train/Assassin_s Creed II/frame_0002.png</td>\n",
       "      <td>a screenshot from a video game shows a woman w...</td>\n",
       "    </tr>\n",
       "    <tr>\n",
       "      <th>2</th>\n",
       "      <td>train/Assassin_s Creed II/frame_0003.png</td>\n",
       "      <td>a screenshot from a video game shows a woman w...</td>\n",
       "    </tr>\n",
       "    <tr>\n",
       "      <th>3</th>\n",
       "      <td>train/Assassin_s Creed II/frame_0004.png</td>\n",
       "      <td>a screenshot from a video game shows a man and...</td>\n",
       "    </tr>\n",
       "    <tr>\n",
       "      <th>4</th>\n",
       "      <td>train/Assassin_s Creed II/frame_0006.png</td>\n",
       "      <td>a screenshot from a video game shows a man and...</td>\n",
       "    </tr>\n",
       "  </tbody>\n",
       "</table>\n",
       "</div>"
      ],
      "text/plain": [
       "                                  file_name  \\\n",
       "0  train/Assassin_s Creed II/frame_0001.png   \n",
       "1  train/Assassin_s Creed II/frame_0002.png   \n",
       "2  train/Assassin_s Creed II/frame_0003.png   \n",
       "3  train/Assassin_s Creed II/frame_0004.png   \n",
       "4  train/Assassin_s Creed II/frame_0006.png   \n",
       "\n",
       "                                             caption  \n",
       "0  a screenshot from a video game shows a man and...  \n",
       "1  a screenshot from a video game shows a woman w...  \n",
       "2  a screenshot from a video game shows a woman w...  \n",
       "3  a screenshot from a video game shows a man and...  \n",
       "4  a screenshot from a video game shows a man and...  "
      ]
     },
     "execution_count": 36,
     "metadata": {},
     "output_type": "execute_result"
    }
   ],
   "source": [
    "train.head()"
   ]
  },
  {
   "cell_type": "code",
   "execution_count": 38,
   "id": "e804b426",
   "metadata": {},
   "outputs": [
    {
     "data": {
      "text/html": [
       "<div>\n",
       "<style scoped>\n",
       "    .dataframe tbody tr th:only-of-type {\n",
       "        vertical-align: middle;\n",
       "    }\n",
       "\n",
       "    .dataframe tbody tr th {\n",
       "        vertical-align: top;\n",
       "    }\n",
       "\n",
       "    .dataframe thead th {\n",
       "        text-align: right;\n",
       "    }\n",
       "</style>\n",
       "<table border=\"1\" class=\"dataframe\">\n",
       "  <thead>\n",
       "    <tr style=\"text-align: right;\">\n",
       "      <th></th>\n",
       "      <th>title</th>\n",
       "      <th>folder</th>\n",
       "      <th>split</th>\n",
       "      <th>frames_count</th>\n",
       "      <th>genres</th>\n",
       "    </tr>\n",
       "  </thead>\n",
       "  <tbody>\n",
       "    <tr>\n",
       "      <th>0</th>\n",
       "      <td>Assassin's Creed</td>\n",
       "      <td>Assassin_s Creed</td>\n",
       "      <td>train</td>\n",
       "      <td>327</td>\n",
       "      <td>Role-playing (RPG), Adventure</td>\n",
       "    </tr>\n",
       "    <tr>\n",
       "      <th>1</th>\n",
       "      <td>Assassin's Creed II</td>\n",
       "      <td>Assassin_s Creed II</td>\n",
       "      <td>train</td>\n",
       "      <td>779</td>\n",
       "      <td>Platform, Adventure</td>\n",
       "    </tr>\n",
       "    <tr>\n",
       "      <th>2</th>\n",
       "      <td>Call of Duty 4: Modern Warfare</td>\n",
       "      <td>Call of Duty 4_ Modern Warfare</td>\n",
       "      <td>train</td>\n",
       "      <td>547</td>\n",
       "      <td>Shooter, Simulator</td>\n",
       "    </tr>\n",
       "    <tr>\n",
       "      <th>3</th>\n",
       "      <td>Crysis</td>\n",
       "      <td>Crysis</td>\n",
       "      <td>train</td>\n",
       "      <td>417</td>\n",
       "      <td>Shooter, Adventure</td>\n",
       "    </tr>\n",
       "    <tr>\n",
       "      <th>4</th>\n",
       "      <td>Deus Ex: Invisible War</td>\n",
       "      <td>Deus Ex_ Invisible War</td>\n",
       "      <td>train</td>\n",
       "      <td>298</td>\n",
       "      <td>Shooter, Role-playing (RPG)</td>\n",
       "    </tr>\n",
       "  </tbody>\n",
       "</table>\n",
       "</div>"
      ],
      "text/plain": [
       "                            title                          folder  split  \\\n",
       "0                Assassin's Creed                Assassin_s Creed  train   \n",
       "1             Assassin's Creed II             Assassin_s Creed II  train   \n",
       "2  Call of Duty 4: Modern Warfare  Call of Duty 4_ Modern Warfare  train   \n",
       "3                          Crysis                          Crysis  train   \n",
       "4          Deus Ex: Invisible War          Deus Ex_ Invisible War  train   \n",
       "\n",
       "   frames_count                         genres  \n",
       "0           327  Role-playing (RPG), Adventure  \n",
       "1           779            Platform, Adventure  \n",
       "2           547             Shooter, Simulator  \n",
       "3           417             Shooter, Adventure  \n",
       "4           298    Shooter, Role-playing (RPG)  "
      ]
     },
     "execution_count": 38,
     "metadata": {},
     "output_type": "execute_result"
    }
   ],
   "source": [
    "games_info.head()"
   ]
  },
  {
   "cell_type": "code",
   "execution_count": 151,
   "id": "787c5207",
   "metadata": {},
   "outputs": [],
   "source": [
    "import random\n",
    "random.seed(1234)\n",
    "\n",
    "k_folds = 5\n",
    "games = games_info[games_info[\"split\"] == \"train\"][\"folder\"].to_list()\n",
    "games = games\n",
    "random.shuffle(games)\n",
    "\n",
    "\n",
    "def get_fold_games(row, games_list):\n",
    "    filename = Path(row[\"file_name\"])\n",
    "    game_folder = filename.parts[1]\n",
    "\n",
    "    return game_folder in games_list\n",
    "\n",
    "fold_size = len(games) // k_folds\n",
    "\n",
    "offset = 0\n",
    "for i in range(k_folds):\n",
    "    chunk_size = fold_size\n",
    "\n",
    "    if i < len(games) % k_folds:\n",
    "        chunk_size += 1\n",
    "\n",
    "    val_games = games[offset: offset + chunk_size]\n",
    "    train_games = games[:offset] + games[offset + chunk_size:]\n",
    "\n",
    "    val_fold_frames = train[train.apply(get_fold_games, games_list=val_games, axis=1)]\n",
    "    train_fold_frames = train[train.apply(get_fold_games, games_list=train_games, axis=1)]\n",
    "\n",
    "    val_fold_frames.to_csv(folds_dir / \"validation\" / f\"fold_{i + 1}.csv\", index=False)\n",
    "    train_fold_frames.to_csv(folds_dir / \"train\" / f\"fold_{i + 1}.csv\", index=False)\n",
    "\n",
    "    offset += chunk_size\n",
    "    "
   ]
  },
  {
   "cell_type": "code",
   "execution_count": 169,
   "id": "cd2edc7c",
   "metadata": {},
   "outputs": [
    {
     "name": "stdout",
     "output_type": "stream",
     "text": [
      "Dataset({\n",
      "    features: ['file_name', 'caption'],\n",
      "    num_rows: 8112\n",
      "})\n",
      "Dataset({\n",
      "    features: ['file_name', 'caption'],\n",
      "    num_rows: 1845\n",
      "})\n"
     ]
    }
   ],
   "source": [
    "from datasets import load_dataset\n",
    "from config_file import config\n",
    "\n",
    "dataset = load_dataset(str(config.DATASET_PATH), \"folds\")\n",
    "\n",
    "print(dataset[\"train_fold_5\"])\n",
    "print(dataset[\"validation_fold_5\"])\n"
   ]
  }
 ],
 "metadata": {
  "kernelspec": {
   "display_name": ".venv",
   "language": "python",
   "name": "python3"
  },
  "language_info": {
   "codemirror_mode": {
    "name": "ipython",
    "version": 3
   },
   "file_extension": ".py",
   "mimetype": "text/x-python",
   "name": "python",
   "nbconvert_exporter": "python",
   "pygments_lexer": "ipython3",
   "version": "3.13.2"
  }
 },
 "nbformat": 4,
 "nbformat_minor": 5
}
