{
 "cells": [
  {
   "cell_type": "code",
   "execution_count": 11,
   "id": "17437675",
   "metadata": {},
   "outputs": [],
   "source": [
    "import pandas as pd\n",
    "from config_file import config\n",
    "import os"
   ]
  },
  {
   "cell_type": "code",
   "execution_count": 13,
   "id": "206e6d43",
   "metadata": {},
   "outputs": [],
   "source": [
    "validation_images = os.listdir(config.IMAGES_PATH / 'validation')\n",
    "anno = pd.read_csv(config.DATA_PATH / 'annotations.csv')"
   ]
  },
  {
   "cell_type": "code",
   "execution_count": null,
   "id": "be9c38f7",
   "metadata": {},
   "outputs": [],
   "source": [
    "validation_anno = anno[anno['filename'].apply(lambda x: x in validation_images)]\n",
    "validation_anno.to_csv(config.DATA_PATH / 'validation.csv', index=False)"
   ]
  }
 ],
 "metadata": {
  "kernelspec": {
   "display_name": ".venv",
   "language": "python",
   "name": "python3"
  },
  "language_info": {
   "codemirror_mode": {
    "name": "ipython",
    "version": 3
   },
   "file_extension": ".py",
   "mimetype": "text/x-python",
   "name": "python",
   "nbconvert_exporter": "python",
   "pygments_lexer": "ipython3",
   "version": "3.13.2"
  }
 },
 "nbformat": 4,
 "nbformat_minor": 5
}
