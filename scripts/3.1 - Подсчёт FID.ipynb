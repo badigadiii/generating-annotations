{
 "cells": [
  {
   "cell_type": "code",
   "execution_count": 1,
   "id": "4c41fdfd",
   "metadata": {},
   "outputs": [],
   "source": [
    "from pathlib import Path\n",
    "from PIL import Image\n",
    "import torch\n",
    "from torch.utils.data import Dataset, DataLoader\n",
    "from torchvision import transforms\n",
    "from torchmetrics.image.fid import FrechetInceptionDistance"
   ]
  },
  {
   "cell_type": "code",
   "execution_count": 2,
   "id": "f591ed26",
   "metadata": {},
   "outputs": [],
   "source": [
    "from config_file import config"
   ]
  },
  {
   "cell_type": "code",
   "execution_count": null,
   "id": "5805ac55",
   "metadata": {},
   "outputs": [],
   "source": [
    "class ImageFolderWithoutLabels(Dataset):\n",
    "    def __init__(self, image_dir, transform=None):\n",
    "        self.paths = list(Path(image_dir).glob(\"*.jpg\"))\n",
    "        self.transform = transform\n",
    "\n",
    "    def __len__(self):\n",
    "        return len(self.paths)\n",
    "\n",
    "    def __getitem__(self, idx):\n",
    "        img_path = self.paths[idx]\n",
    "        img = Image.open(img_path).convert(\"RGB\")\n",
    "        if self.transform:\n",
    "            img = self.transform(img)\n",
    "        # Преобразование в uint8\n",
    "        img = (img * 255).clamp(0, 255).byte()\n",
    "        return img"
   ]
  },
  {
   "cell_type": "code",
   "execution_count": null,
   "id": "3b0c3e1b",
   "metadata": {},
   "outputs": [],
   "source": [
    "def get_fid(real_dir: Path, fake_dir: Path):\n",
    "    transform = transforms.Compose([\n",
    "        transforms.Resize((299, 299)),\n",
    "        transforms.ToTensor(),  # вернёт float32, но мы преобразуем ниже\n",
    "    ])\n",
    "    \n",
    "    # Датасеты\n",
    "    real_dataset = ImageFolderWithoutLabels(real_dir, transform=transform)\n",
    "    fake_dataset = ImageFolderWithoutLabels(fake_dir, transform=transform)\n",
    "\n",
    "    # Дата лоадеры\n",
    "    real_loader = DataLoader(real_dataset, batch_size=32)\n",
    "    fake_loader = DataLoader(fake_dataset, batch_size=32)\n",
    "\n",
    "    # Метрика FID\n",
    "    device = torch.device(\"cuda\" if torch.cuda.is_available() else \"cpu\")\n",
    "    fid = FrechetInceptionDistance(feature=2048).to(device)\n",
    "\n",
    "    # Обновляем метрику\n",
    "    for imgs in real_loader:\n",
    "        fid.update(imgs.to(device), real=True)\n",
    "\n",
    "    for imgs in fake_loader:\n",
    "        fid.update(imgs.to(device), real=False)\n",
    "\n",
    "    # Результат\n",
    "    fid_score = fid.compute()\n",
    "    return fid_score"
   ]
  },
  {
   "cell_type": "code",
   "execution_count": 5,
   "id": "37b03ff5",
   "metadata": {},
   "outputs": [],
   "source": [
    "# Пути к папкам\n",
    "real_dir = Path(config.IMAGES_PATH / \"validation\")\n",
    "fake_dir = Path(config.IMAGES_PATH / \"sd-generated\")"
   ]
  },
  {
   "cell_type": "code",
   "execution_count": 6,
   "id": "d265de93",
   "metadata": {},
   "outputs": [
    {
     "name": "stdout",
     "output_type": "stream",
     "text": [
      "📊 FID: 285.6114\n"
     ]
    }
   ],
   "source": [
    "orig_fid = get_fid(real_dir, fake_dir)\n",
    "print(f\"📊 FID: {orig_fid.item():.4f}\")"
   ]
  },
  {
   "cell_type": "code",
   "execution_count": null,
   "id": "1491cf84",
   "metadata": {},
   "outputs": [
    {
     "data": {
      "text/plain": [
       "[WindowsPath('sd_trained_unet_epoch_110.pt'),\n",
       " WindowsPath('sd_trained_unet_epoch_50.pt'),\n",
       " WindowsPath('sd_trained_unet_epoch_80.pt')]"
      ]
     },
     "execution_count": 18,
     "metadata": {},
     "output_type": "execute_result"
    }
   ],
   "source": [
    "import os\n",
    "real_dir = Path(config.IMAGES_PATH / \"validation\")\n",
    "\n",
    "generated_image_dirs = [Path(name) for name in os.listdir(config.IMAGES_PATH / '512x512') if name.startswith('sd_trained')]\n",
    "generated_image_dirs"
   ]
  },
  {
   "cell_type": "code",
   "execution_count": null,
   "id": "ca880ec4",
   "metadata": {},
   "outputs": [],
   "source": [
    "# size = 512\n",
    "# transform = transforms.Compose([\n",
    "#     transforms.Resize(size, interpolation=transforms.InterpolationMode.BICUBIC),\n",
    "#     transforms.CenterCrop(size),\n",
    "# ])\n",
    "\n",
    "# fake_images = os.listdir(config.IMAGES_PATH / '512x512' / generated_image_dirs[0])\n",
    "# real_images = os.listdir(config.IMAGES_PATH / 'validation')\n",
    "\n",
    "# images_to_validate = list(set(fake_images) & set(real_images))\n",
    "\n",
    "# for filename in images_to_validate:\n",
    "#     img = transform(Image.open(config.IMAGES_PATH / 'validation' / filename))\n",
    "#     img.save(config.IMAGES_PATH / 'real-validation' / filename)"
   ]
  },
  {
   "cell_type": "code",
   "execution_count": 19,
   "id": "edb82b77",
   "metadata": {},
   "outputs": [
    {
     "name": "stdout",
     "output_type": "stream",
     "text": [
      "📊 FID for sd_trained_unet_epoch_110.pt: 307.3285\n",
      "📊 FID for sd_trained_unet_epoch_50.pt: 294.8206\n",
      "📊 FID for sd_trained_unet_epoch_80.pt: 299.6521\n"
     ]
    }
   ],
   "source": [
    "for image_dir in generated_image_dirs:\n",
    "    fid = get_fid(real_dir, config.IMAGES_PATH / '512x512' / image_dir)\n",
    "\n",
    "    print(f\"📊 FID for {image_dir}: {fid.item():.4f}\")"
   ]
  },
  {
   "cell_type": "markdown",
   "id": "39b6dd4e",
   "metadata": {},
   "source": [
    "📊 FID for sd_trained_unet_epoch_10.pt: 344.3788\n",
    "\n",
    "📊 FID for sd_trained_unet_epoch_110.pt: 295.6270\n",
    "\n",
    "📊 FID for sd_trained_unet_epoch_50.pt: 284.7102\n",
    "\n",
    "📊 FID for sd_trained_unet_epoch_80.pt: 295.8654"
   ]
  }
 ],
 "metadata": {
  "kernelspec": {
   "display_name": ".venv",
   "language": "python",
   "name": "python3"
  },
  "language_info": {
   "codemirror_mode": {
    "name": "ipython",
    "version": 3
   },
   "file_extension": ".py",
   "mimetype": "text/x-python",
   "name": "python",
   "nbconvert_exporter": "python",
   "pygments_lexer": "ipython3",
   "version": "3.13.2"
  }
 },
 "nbformat": 4,
 "nbformat_minor": 5
}
