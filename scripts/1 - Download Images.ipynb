{
 "cells": [
  {
   "cell_type": "code",
   "execution_count": 1,
   "id": "4d657a33",
   "metadata": {},
   "outputs": [],
   "source": [
    "import asyncio\n",
    "import aiohttp\n",
    "from tqdm.asyncio import tqdm_asyncio\n",
    "import pandas as pd\n",
    "from pathlib import Path\n",
    "\n",
    "from config_file import config"
   ]
  },
  {
   "cell_type": "code",
   "execution_count": 2,
   "id": "48fd830e",
   "metadata": {},
   "outputs": [],
   "source": [
    "games_df = pd.read_csv(config.DATA_PATH / 'games.csv')"
   ]
  },
  {
   "cell_type": "code",
   "execution_count": 4,
   "id": "83e81526",
   "metadata": {},
   "outputs": [
    {
     "data": {
      "text/html": [
       "<div>\n",
       "<style scoped>\n",
       "    .dataframe tbody tr th:only-of-type {\n",
       "        vertical-align: middle;\n",
       "    }\n",
       "\n",
       "    .dataframe tbody tr th {\n",
       "        vertical-align: top;\n",
       "    }\n",
       "\n",
       "    .dataframe thead th {\n",
       "        text-align: right;\n",
       "    }\n",
       "</style>\n",
       "<table border=\"1\" class=\"dataframe\">\n",
       "  <thead>\n",
       "    <tr style=\"text-align: right;\">\n",
       "      <th></th>\n",
       "      <th>image_id</th>\n",
       "      <th>game_id</th>\n",
       "      <th>name</th>\n",
       "      <th>release_date</th>\n",
       "      <th>rating</th>\n",
       "      <th>genres</th>\n",
       "      <th>player_perspectives</th>\n",
       "    </tr>\n",
       "  </thead>\n",
       "  <tbody>\n",
       "    <tr>\n",
       "      <th>0</th>\n",
       "      <td>scc9gr</td>\n",
       "      <td>1156</td>\n",
       "      <td>Tomb Raider II</td>\n",
       "      <td>880070400</td>\n",
       "      <td>80.270008</td>\n",
       "      <td>['Shooter', 'Platform', 'Puzzle', 'Adventure']</td>\n",
       "      <td>['Third person']</td>\n",
       "    </tr>\n",
       "    <tr>\n",
       "      <th>1</th>\n",
       "      <td>scc9gs</td>\n",
       "      <td>1156</td>\n",
       "      <td>Tomb Raider II</td>\n",
       "      <td>880070400</td>\n",
       "      <td>80.270008</td>\n",
       "      <td>['Shooter', 'Platform', 'Puzzle', 'Adventure']</td>\n",
       "      <td>['Third person']</td>\n",
       "    </tr>\n",
       "    <tr>\n",
       "      <th>2</th>\n",
       "      <td>scc9gt</td>\n",
       "      <td>1156</td>\n",
       "      <td>Tomb Raider II</td>\n",
       "      <td>880070400</td>\n",
       "      <td>80.270008</td>\n",
       "      <td>['Shooter', 'Platform', 'Puzzle', 'Adventure']</td>\n",
       "      <td>['Third person']</td>\n",
       "    </tr>\n",
       "    <tr>\n",
       "      <th>3</th>\n",
       "      <td>scc9gq</td>\n",
       "      <td>1156</td>\n",
       "      <td>Tomb Raider II</td>\n",
       "      <td>880070400</td>\n",
       "      <td>80.270008</td>\n",
       "      <td>['Shooter', 'Platform', 'Puzzle', 'Adventure']</td>\n",
       "      <td>['Third person']</td>\n",
       "    </tr>\n",
       "    <tr>\n",
       "      <th>4</th>\n",
       "      <td>scc9gp</td>\n",
       "      <td>1156</td>\n",
       "      <td>Tomb Raider II</td>\n",
       "      <td>880070400</td>\n",
       "      <td>80.270008</td>\n",
       "      <td>['Shooter', 'Platform', 'Puzzle', 'Adventure']</td>\n",
       "      <td>['Third person']</td>\n",
       "    </tr>\n",
       "  </tbody>\n",
       "</table>\n",
       "</div>"
      ],
      "text/plain": [
       "  image_id  game_id            name  release_date     rating  \\\n",
       "0   scc9gr     1156  Tomb Raider II     880070400  80.270008   \n",
       "1   scc9gs     1156  Tomb Raider II     880070400  80.270008   \n",
       "2   scc9gt     1156  Tomb Raider II     880070400  80.270008   \n",
       "3   scc9gq     1156  Tomb Raider II     880070400  80.270008   \n",
       "4   scc9gp     1156  Tomb Raider II     880070400  80.270008   \n",
       "\n",
       "                                           genres player_perspectives  \n",
       "0  ['Shooter', 'Platform', 'Puzzle', 'Adventure']    ['Third person']  \n",
       "1  ['Shooter', 'Platform', 'Puzzle', 'Adventure']    ['Third person']  \n",
       "2  ['Shooter', 'Platform', 'Puzzle', 'Adventure']    ['Third person']  \n",
       "3  ['Shooter', 'Platform', 'Puzzle', 'Adventure']    ['Third person']  \n",
       "4  ['Shooter', 'Platform', 'Puzzle', 'Adventure']    ['Third person']  "
      ]
     },
     "execution_count": 4,
     "metadata": {},
     "output_type": "execute_result"
    }
   ],
   "source": [
    "games_df.head(5)"
   ]
  },
  {
   "cell_type": "code",
   "execution_count": 6,
   "id": "f014288d",
   "metadata": {},
   "outputs": [
    {
     "name": "stderr",
     "output_type": "stream",
     "text": [
      "100%|██████████| 13/13 [00:00<00:00, 21.60it/s]\n"
     ]
    }
   ],
   "source": [
    "import nest_asyncio\n",
    "nest_asyncio.apply()\n",
    "\n",
    "size = '720p'\n",
    "IMAGE_DIR = config.IMAGES_PATH\n",
    "\n",
    "async def download_image(session, image_id):\n",
    "    url = f\"https://images.igdb.com/igdb/image/upload/t_{size}/{image_id}.jpg\"\n",
    "    image_path = IMAGE_DIR / f\"{image_id}.jpg\"\n",
    "\n",
    "    if image_path.exists():\n",
    "        # print(f\"✅ {image_id}.jpg уже скачан.\")\n",
    "        return\n",
    "\n",
    "    try:\n",
    "        async with session.get(url) as response:\n",
    "            if response.status == 200:\n",
    "                with open(image_path, \"wb\") as f:\n",
    "                    f.write(await response.read())\n",
    "                # print(f\"✅ Скачано: {image_id}.jpg\")\n",
    "            else:\n",
    "                pass\n",
    "                # print(f\"❌ Ошибка {response.status} при скачивании {image_id}\")\n",
    "    except Exception as e:\n",
    "        print(f\"⚠ Ошибка при скачивании {image_id}: {e}\")\n",
    "\n",
    "async def main(df: pd.DataFrame):\n",
    "    async with aiohttp.ClientSession() as session:\n",
    "        tasks = [download_image(session, image_id) for image_id in df[\"image_id\"]]\n",
    "        await tqdm_asyncio.gather(*tasks)\n",
    "\n",
    "asyncio.run(main(games_df))"
   ]
  }
 ],
 "metadata": {
  "kernelspec": {
   "display_name": ".venv",
   "language": "python",
   "name": "python3"
  },
  "language_info": {
   "codemirror_mode": {
    "name": "ipython",
    "version": 3
   },
   "file_extension": ".py",
   "mimetype": "text/x-python",
   "name": "python",
   "nbconvert_exporter": "python",
   "pygments_lexer": "ipython3",
   "version": "3.13.2"
  }
 },
 "nbformat": 4,
 "nbformat_minor": 5
}
