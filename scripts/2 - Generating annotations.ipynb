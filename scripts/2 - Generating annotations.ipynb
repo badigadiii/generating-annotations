{
 "cells": [
  {
   "cell_type": "code",
   "execution_count": 1,
   "id": "9bb09f29",
   "metadata": {},
   "outputs": [
    {
     "name": "stderr",
     "output_type": "stream",
     "text": [
      "e:\\PythonProjects\\Scraping Dataset\\generating-annotations\\.venv\\Lib\\site-packages\\tqdm\\auto.py:21: TqdmWarning: IProgress not found. Please update jupyter and ipywidgets. See https://ipywidgets.readthedocs.io/en/stable/user_install.html\n",
      "  from .autonotebook import tqdm as notebook_tqdm\n",
      "e:\\PythonProjects\\Scraping Dataset\\generating-annotations\\.venv\\Lib\\site-packages\\transformers\\utils\\hub.py:105: FutureWarning: Using `TRANSFORMERS_CACHE` is deprecated and will be removed in v5 of Transformers. Use `HF_HOME` instead.\n",
      "  warnings.warn(\n"
     ]
    }
   ],
   "source": [
    "import os\n",
    "from PIL import Image\n",
    "from tqdm import tqdm\n",
    "from transformers import (\n",
    "    BlipProcessor,\n",
    "    BlipForConditionalGeneration,\n",
    ")\n",
    "import torch\n",
    "import pandas as pd"
   ]
  },
  {
   "cell_type": "code",
   "execution_count": 2,
   "id": "87b67744",
   "metadata": {},
   "outputs": [],
   "source": [
    "from config_file import config"
   ]
  },
  {
   "cell_type": "code",
   "execution_count": 3,
   "id": "c70ae749",
   "metadata": {},
   "outputs": [],
   "source": [
    "# Путь к папке с изображениями\n",
    "images_folder = config.IMAGES_PATH\n",
    "output_file = config.DATA_PATH / \"captions.txt\"\n",
    "\n",
    "# ⚙️ Устройство\n",
    "device = torch.device(\"cuda\" if torch.cuda.is_available() else \"cpu\")"
   ]
  },
  {
   "cell_type": "code",
   "execution_count": 6,
   "id": "5dce389d",
   "metadata": {},
   "outputs": [],
   "source": [
    "# 🔄 Загрузка модели и процессора один раз\n",
    "processor = BlipProcessor.from_pretrained(\"Salesforce/blip-image-captioning-base\", cache_dir=config.PROJECT_PATH / \".cache\")\n",
    "model = BlipForConditionalGeneration.from_pretrained(\"Salesforce/blip-image-captioning-base\", cache_dir=config.PROJECT_PATH / \".cache\").to(device)"
   ]
  },
  {
   "cell_type": "code",
   "execution_count": 81,
   "id": "3a4bedd0",
   "metadata": {},
   "outputs": [],
   "source": [
    "def generate_caption(image_path: str, text: str, game: pd.Series) -> str:\n",
    "    try:\n",
    "        image = Image.open(image_path).convert(\"RGB\")\n",
    "        inputs = processor(images=image, text=text, return_tensors=\"pt\").to(device)\n",
    "        output = model.generate(**inputs)\n",
    "        caption = processor.decode(output[0], skip_special_tokens=True)\n",
    "\n",
    "        genres = \"Unknown genres\" if pd.isna(game[\"genres\"]) else game[\"genres\"]\n",
    "        perspectives = (\n",
    "            \"Unknown perspectives\"\n",
    "            if pd.isna(game[\"player_perspectives\"])\n",
    "            else game[\"player_perspectives\"]\n",
    "        )\n",
    "        caption = f\"Game has genres: {genres}; perspectives: {perspectives}. \" + caption\n",
    "\n",
    "        return caption\n",
    "    except Exception as e:\n",
    "        print(f\"Ошибка при обработке {image_path}: {e}\")\n",
    "        return \"\""
   ]
  },
  {
   "cell_type": "code",
   "execution_count": 82,
   "id": "f9367586",
   "metadata": {},
   "outputs": [],
   "source": [
    "df = pd.read_csv(config.DATA_PATH / \"similar_games.csv\")"
   ]
  },
  {
   "cell_type": "code",
   "execution_count": null,
   "id": "5af344c9",
   "metadata": {},
   "outputs": [
    {
     "name": "stderr",
     "output_type": "stream",
     "text": [
      "Генерация аннотаций: 100%|██████████| 2561/2561 [14:01<00:00,  3.04it/s]"
     ]
    },
    {
     "name": "stdout",
     "output_type": "stream",
     "text": [
      "✅ Аннотации сохранены в annotations.txt\n"
     ]
    },
    {
     "name": "stderr",
     "output_type": "stream",
     "text": [
      "\n"
     ]
    }
   ],
   "source": [
    "# 📷 Обработка изображений\n",
    "image_files = os.listdir(images_folder)\n",
    "annotations = {}\n",
    "text = \"this game screenshot shows\"\n",
    "\n",
    "for i in tqdm(range(len(df)), desc=\"Генерация аннотаций\"):\n",
    "    game = df.iloc[i]\n",
    "    img_file = game[\"image_id\"] + \".jpg\"\n",
    "    image_path = images_folder / img_file\n",
    "    caption = generate_caption(\n",
    "        image_path,\n",
    "        text,\n",
    "        game,\n",
    "    )\n",
    "\n",
    "    annotations[game[\"image_id\"]] = caption"
   ]
  },
  {
   "cell_type": "code",
   "execution_count": 89,
   "id": "478bc5c7",
   "metadata": {},
   "outputs": [],
   "source": [
    "with open(\"annotations.txt\", \"r\") as f:\n",
    "    lines = f.readlines()\n",
    "    lines = map(lambda line: line.strip().split(\"\\t\"), lines)"
   ]
  },
  {
   "cell_type": "code",
   "execution_count": 1,
   "id": "b142f89e",
   "metadata": {},
   "outputs": [
    {
     "data": {
      "text/html": [
       "<div>\n",
       "<style scoped>\n",
       "    .dataframe tbody tr th:only-of-type {\n",
       "        vertical-align: middle;\n",
       "    }\n",
       "\n",
       "    .dataframe tbody tr th {\n",
       "        vertical-align: top;\n",
       "    }\n",
       "\n",
       "    .dataframe thead th {\n",
       "        text-align: right;\n",
       "    }\n",
       "</style>\n",
       "<table border=\"1\" class=\"dataframe\">\n",
       "  <thead>\n",
       "    <tr style=\"text-align: right;\">\n",
       "      <th></th>\n",
       "      <th>filename</th>\n",
       "      <th>annotation</th>\n",
       "    </tr>\n",
       "  </thead>\n",
       "  <tbody>\n",
       "    <tr>\n",
       "      <th>0</th>\n",
       "      <td>koajaesby7cmhujlcwkl.jpg</td>\n",
       "      <td>Game has genres: Shooter, Platform, Puzzle, Ad...</td>\n",
       "    </tr>\n",
       "    <tr>\n",
       "      <th>1</th>\n",
       "      <td>poegvjadtys8fflxpxnu.jpg</td>\n",
       "      <td>Game has genres: Shooter, Platform, Puzzle, Ad...</td>\n",
       "    </tr>\n",
       "    <tr>\n",
       "      <th>2</th>\n",
       "      <td>lrx26njeiciksjqby7ou.jpg</td>\n",
       "      <td>Game has genres: Shooter, Platform, Puzzle, Ad...</td>\n",
       "    </tr>\n",
       "    <tr>\n",
       "      <th>3</th>\n",
       "      <td>vux5gzepdeqvhvm84rcz.jpg</td>\n",
       "      <td>Game has genres: Shooter, Platform, Puzzle, Ad...</td>\n",
       "    </tr>\n",
       "    <tr>\n",
       "      <th>4</th>\n",
       "      <td>jlt7ncnm7cheka0hmypd.jpg</td>\n",
       "      <td>Game has genres: Shooter, Platform, Puzzle, Ad...</td>\n",
       "    </tr>\n",
       "  </tbody>\n",
       "</table>\n",
       "</div>"
      ],
      "text/plain": [
       "                   filename                                         annotation\n",
       "0  koajaesby7cmhujlcwkl.jpg  Game has genres: Shooter, Platform, Puzzle, Ad...\n",
       "1  poegvjadtys8fflxpxnu.jpg  Game has genres: Shooter, Platform, Puzzle, Ad...\n",
       "2  lrx26njeiciksjqby7ou.jpg  Game has genres: Shooter, Platform, Puzzle, Ad...\n",
       "3  vux5gzepdeqvhvm84rcz.jpg  Game has genres: Shooter, Platform, Puzzle, Ad...\n",
       "4  jlt7ncnm7cheka0hmypd.jpg  Game has genres: Shooter, Platform, Puzzle, Ad..."
      ]
     },
     "execution_count": 1,
     "metadata": {},
     "output_type": "execute_result"
    }
   ],
   "source": [
    "import pandas as pd\n",
    "\n",
    "annotations = pd.read_csv(\"annotations.txt\", sep=\"\\t\", header=None)\n",
    "annotations.columns = [\"filename\", \"annotation\"]\n",
    "annotations.head()"
   ]
  },
  {
   "cell_type": "code",
   "execution_count": 6,
   "id": "d8502685",
   "metadata": {},
   "outputs": [],
   "source": [
    "annotations.to_csv(config.DATA_PATH / \"annotations.csv\", index=False)"
   ]
  },
  {
   "cell_type": "markdown",
   "id": "6c71422f",
   "metadata": {},
   "source": [
    "# FuseCAP"
   ]
  },
  {
   "cell_type": "code",
   "execution_count": 5,
   "id": "0fb1267b",
   "metadata": {},
   "outputs": [],
   "source": [
    "import requests\n",
    "from PIL import Image\n",
    "from transformers import BlipProcessor, BlipForConditionalGeneration"
   ]
  },
  {
   "cell_type": "code",
   "execution_count": 8,
   "id": "03955cae",
   "metadata": {},
   "outputs": [],
   "source": [
    "device = torch.device('cuda' if torch.cuda.is_available() else 'cpu')\n",
    "processor = BlipProcessor.from_pretrained(\"noamrot/FuseCap\", cache_dir=config.PROJECT_PATH / \".cache\")\n",
    "model = BlipForConditionalGeneration.from_pretrained(\"noamrot/FuseCap\", cache_dir=config.PROJECT_PATH / \".cache\").to(device)"
   ]
  },
  {
   "cell_type": "code",
   "execution_count": null,
   "id": "7c8201f0",
   "metadata": {},
   "outputs": [],
   "source": [
    "img_url = 'https://huggingface.co/spaces/noamrot/FuseCap/resolve/main/bike.jpg' \n",
    "raw_image = Image.open(requests.get(img_url, stream=True).raw).convert('RGB')\n",
    "\n",
    "text = \"a picture of \"\n",
    "inputs = processor(raw_image, text, return_tensors=\"pt\").to(device)\n",
    "\n",
    "out = model.generate(**inputs, num_beams = 3)\n",
    "print(processor.decode(out[0], skip_special_tokens=True))\n"
   ]
  }
 ],
 "metadata": {
  "kernelspec": {
   "display_name": ".venv",
   "language": "python",
   "name": "python3"
  },
  "language_info": {
   "codemirror_mode": {
    "name": "ipython",
    "version": 3
   },
   "file_extension": ".py",
   "mimetype": "text/x-python",
   "name": "python",
   "nbconvert_exporter": "python",
   "pygments_lexer": "ipython3",
   "version": "3.13.2"
  }
 },
 "nbformat": 4,
 "nbformat_minor": 5
}
