{
 "cells": [
  {
   "cell_type": "code",
   "execution_count": 2,
   "id": "9bb09f29",
   "metadata": {},
   "outputs": [
    {
     "name": "stderr",
     "output_type": "stream",
     "text": [
      "d:\\PyCharm_Projects\\Scraping Dataset\\generating-annotations\\.venv\\Lib\\site-packages\\tqdm\\auto.py:21: TqdmWarning: IProgress not found. Please update jupyter and ipywidgets. See https://ipywidgets.readthedocs.io/en/stable/user_install.html\n",
      "  from .autonotebook import tqdm as notebook_tqdm\n"
     ]
    }
   ],
   "source": [
    "import os\n",
    "from PIL import Image\n",
    "from tqdm import tqdm\n",
    "from transformers import InstructBlipForConditionalGeneration, InstructBlipProcessor\n",
    "import torch"
   ]
  },
  {
   "cell_type": "code",
   "execution_count": 3,
   "id": "87b67744",
   "metadata": {},
   "outputs": [],
   "source": [
    "from config_file import config"
   ]
  },
  {
   "cell_type": "code",
   "execution_count": 4,
   "id": "c70ae749",
   "metadata": {},
   "outputs": [],
   "source": [
    "# Путь к папке с изображениями\n",
    "images_folder = config.IMAGES_PATH\n",
    "output_file = config.DATA_PATH / \"annotations.txt\"\n",
    "\n",
    "# ⚙️ Устройство\n",
    "device = torch.device(\"cuda\" if torch.cuda.is_available() else \"cpu\")\n",
    "output_file = \"annotations.txt\""
   ]
  },
  {
   "cell_type": "code",
   "execution_count": null,
   "id": "5dce389d",
   "metadata": {},
   "outputs": [
    {
     "name": "stderr",
     "output_type": "stream",
     "text": [
      "Using a slow image processor as `use_fast` is unset and a slow processor was saved with this model. `use_fast=True` will be the default behavior in v4.52, even if the model was saved with a slow processor. This will result in minor differences in outputs. You'll still be able to use a slow processor with `use_fast=False`.\n",
      "d:\\PyCharm_Projects\\Scraping Dataset\\generating-annotations\\.venv\\Lib\\site-packages\\huggingface_hub\\file_download.py:144: UserWarning: `huggingface_hub` cache-system uses symlinks by default to efficiently store duplicated files but your machine does not support them in C:\\Users\\badigadii\\.cache\\huggingface\\hub\\models--Salesforce--instructblip-flan-t5-xl. Caching files will still work but in a degraded version that might require more space on your disk. This warning can be disabled by setting the `HF_HUB_DISABLE_SYMLINKS_WARNING` environment variable. For more details, see https://huggingface.co/docs/huggingface_hub/how-to-cache#limitations.\n",
      "To support symlinks on Windows, you either need to activate Developer Mode or to run Python as an administrator. In order to activate developer mode, see this article: https://docs.microsoft.com/en-us/windows/apps/get-started/enable-your-device-for-development\n",
      "  warnings.warn(message)\n",
      "Fetching 2 files:   0%|          | 0/2 [00:00<?, ?it/s]"
     ]
    }
   ],
   "source": [
    "processor = InstructBlipProcessor.from_pretrained(\"Salesforce/instructblip-flan-t5-xl\")\n",
    "model = InstructBlipForConditionalGeneration.from_pretrained(\n",
    "    \"Salesforce/instructblip-flan-t5-xl\",\n",
    "    torch_dtype=torch.float16,  # 💡 экономим память\n",
    ").to(device)"
   ]
  },
  {
   "cell_type": "code",
   "execution_count": null,
   "id": "3a4bedd0",
   "metadata": {},
   "outputs": [],
   "source": [
    "def generate_caption(image_path: str, prompt: str = \"\") -> str:\n",
    "    try:\n",
    "        image = Image.open(image_path).convert(\"RGB\")\n",
    "        inputs = processor(images=image, text=prompt, return_tensors=\"pt\").to(device)\n",
    "        output = model.generate(**inputs)\n",
    "        caption = processor.decode(output[0], skip_special_tokens=True)\n",
    "        return caption\n",
    "    except Exception as e:\n",
    "        print(f\"Ошибка при обработке {image_path}: {e}\")\n",
    "        return \"\""
   ]
  },
  {
   "cell_type": "code",
   "execution_count": 23,
   "id": "2c12f779",
   "metadata": {},
   "outputs": [],
   "source": [
    "Image.open(image_path).show()"
   ]
  },
  {
   "cell_type": "code",
   "execution_count": null,
   "id": "f55c3f77",
   "metadata": {},
   "outputs": [
    {
     "data": {
      "text/plain": [
       "\"game screenshot of the day - the witch ' s house\""
      ]
     },
     "execution_count": 21,
     "metadata": {},
     "output_type": "execute_result"
    }
   ],
   "source": [
    "image_files = os.listdir(images_folder)\n",
    "image_path = images_folder / image_files[0]\n",
    "generate_caption(\n",
    "    image_path,\n",
    "    \"Describe this image in rich detail, including objects, actions, background, and style\",\n",
    ")"
   ]
  },
  {
   "cell_type": "code",
   "execution_count": null,
   "id": "5af344c9",
   "metadata": {},
   "outputs": [
    {
     "ename": "FileNotFoundError",
     "evalue": "[WinError 3] Системе не удается найти указанный путь: 'images'",
     "output_type": "error",
     "traceback": [
      "\u001b[31m---------------------------------------------------------------------------\u001b[39m",
      "\u001b[31mFileNotFoundError\u001b[39m                         Traceback (most recent call last)",
      "\u001b[36mCell\u001b[39m\u001b[36m \u001b[39m\u001b[32mIn[5]\u001b[39m\u001b[32m, line 4\u001b[39m\n\u001b[32m      1\u001b[39m \u001b[38;5;66;03m# 📷 Обработка изображений\u001b[39;00m\n\u001b[32m      2\u001b[39m image_files = [\n\u001b[32m      3\u001b[39m     f\n\u001b[32m----> \u001b[39m\u001b[32m4\u001b[39m     \u001b[38;5;28;01mfor\u001b[39;00m f \u001b[38;5;129;01min\u001b[39;00m \u001b[43mos\u001b[49m\u001b[43m.\u001b[49m\u001b[43mlistdir\u001b[49m\u001b[43m(\u001b[49m\u001b[43mimages_folder\u001b[49m\u001b[43m)\u001b[49m\n\u001b[32m      5\u001b[39m     \u001b[38;5;28;01mif\u001b[39;00m f.lower().endswith((\u001b[33m\"\u001b[39m\u001b[33m.jpg\u001b[39m\u001b[33m\"\u001b[39m, \u001b[33m\"\u001b[39m\u001b[33m.png\u001b[39m\u001b[33m\"\u001b[39m, \u001b[33m\"\u001b[39m\u001b[33m.jpeg\u001b[39m\u001b[33m\"\u001b[39m))\n\u001b[32m      6\u001b[39m ]\n\u001b[32m      7\u001b[39m annotations = []\n\u001b[32m      9\u001b[39m \u001b[38;5;28;01mfor\u001b[39;00m img_file \u001b[38;5;129;01min\u001b[39;00m tqdm(image_files, desc=\u001b[33m\"\u001b[39m\u001b[33mГенерация аннотаций\u001b[39m\u001b[33m\"\u001b[39m):\n",
      "\u001b[31mFileNotFoundError\u001b[39m: [WinError 3] Системе не удается найти указанный путь: 'images'"
     ]
    }
   ],
   "source": [
    "# 📷 Обработка изображений\n",
    "image_files = os.listdir(images_folder)\n",
    "annotations = []\n",
    "\n",
    "for img_file in tqdm(image_files, desc=\"Генерация аннотаций\"):\n",
    "    image_path = images_folder / img_file\n",
    "    caption = generate_caption(image_path)\n",
    "    if caption:\n",
    "        annotations.append(f\"{img_file}\\t{caption}\")\n",
    "\n",
    "# 💾 Сохранение в файл\n",
    "with open(output_file, \"w\", encoding=\"utf-8\") as f:\n",
    "    for line in annotations:\n",
    "        f.write(line + \"\\n\")\n",
    "\n",
    "print(f\"✅ Аннотации сохранены в {output_file}\")"
   ]
  }
 ],
 "metadata": {
  "kernelspec": {
   "display_name": ".venv",
   "language": "python",
   "name": "python3"
  },
  "language_info": {
   "codemirror_mode": {
    "name": "ipython",
    "version": 3
   },
   "file_extension": ".py",
   "mimetype": "text/x-python",
   "name": "python",
   "nbconvert_exporter": "python",
   "pygments_lexer": "ipython3",
   "version": "3.13.2"
  }
 },
 "nbformat": 4,
 "nbformat_minor": 5
}
