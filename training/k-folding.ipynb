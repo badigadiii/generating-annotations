{
 "cells": [
  {
   "cell_type": "code",
   "execution_count": 28,
   "id": "2e7af990",
   "metadata": {},
   "outputs": [],
   "source": [
    "import os\n",
    "from torch.utils.data import Dataset, DataLoader\n",
    "from PIL import Image\n",
    "import pandas as pd\n",
    "from pathlib import Path\n",
    "\n",
    "from datasets import load_dataset\n",
    "\n",
    "from dataset import RetroGamesHelper\n",
    "from config_file import config"
   ]
  },
  {
   "cell_type": "code",
   "execution_count": 29,
   "id": "c03faef7",
   "metadata": {},
   "outputs": [],
   "source": [
    "class CustomDataset(Dataset):\n",
    "    def __init__(self, dataset_path: Path, dataset_split: str = \"train\", fold_index: int = None, k_folds: int = None, transform=None):\n",
    "        self.dataset_path = Path(dataset_path)\n",
    "        dataset = load_dataset(str(dataset_path))\n",
    "        self.dataset = dataset[dataset_split]\n",
    "        self.retro_helper = RetroGamesHelper(dataset_path / dataset_split, dataset_path / f\"{dataset_split}.csv\")\n",
    "        self.validation_dataset = None\n",
    "\n",
    "        if fold_index is not None and k_folds is not None:\n",
    "            train, val = self.retro_helper.get_fold(fold_index, k_folds)\n",
    "            self.dataset = train\n",
    "            self.validation_dataset = val\n",
    "\n",
    "        self.transform = transform\n",
    "\n",
    "    def __len__(self):\n",
    "        return len(self.dataset)\n",
    "\n",
    "    def __getitem__(self, idx):\n",
    "\n",
    "        if isinstance(self.dataset, pd.core.frame.DataFrame):\n",
    "            screenshot = self.dataset.iloc[idx]\n",
    "        else:\n",
    "            screenshot = self.dataset[idx]\n",
    "        filepath = self.dataset_path / screenshot[\"file_name\"]\n",
    "        prompt = screenshot[\"caption\"]\n",
    "\n",
    "        image = Image.open(filepath).convert(\"RGB\")\n",
    "        if self.transform:\n",
    "            image = self.transform(image)\n",
    "\n",
    "        return {\"pixel_values\": image, \"prompt\": prompt}"
   ]
  },
  {
   "cell_type": "code",
   "execution_count": 30,
   "id": "652d5860",
   "metadata": {},
   "outputs": [],
   "source": [
    "dataset_path = config.DATASET_PATH\n",
    "dataset_split = \"train\"\n",
    "fold_index = 3\n",
    "k_folds = 5\n",
    "\n",
    "dataset = CustomDataset(dataset_path, dataset_split, fold_index = fold_index, k_folds=k_folds)"
   ]
  },
  {
   "cell_type": "code",
   "execution_count": 31,
   "id": "6e79f5fd",
   "metadata": {},
   "outputs": [
    {
     "data": {
      "text/plain": [
       "{'pixel_values': <PIL.Image.Image image mode=RGB size=512x512>,\n",
       " 'prompt': 'a screenshot from a video game shows a man in a suit'}"
      ]
     },
     "execution_count": 31,
     "metadata": {},
     "output_type": "execute_result"
    }
   ],
   "source": [
    "dataset[0]"
   ]
  }
 ],
 "metadata": {
  "kernelspec": {
   "display_name": ".venv",
   "language": "python",
   "name": "python3"
  },
  "language_info": {
   "codemirror_mode": {
    "name": "ipython",
    "version": 3
   },
   "file_extension": ".py",
   "mimetype": "text/x-python",
   "name": "python",
   "nbconvert_exporter": "python",
   "pygments_lexer": "ipython3",
   "version": "3.13.2"
  }
 },
 "nbformat": 4,
 "nbformat_minor": 5
}
