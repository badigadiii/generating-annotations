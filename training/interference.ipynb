{
 "cells": [
  {
   "cell_type": "code",
   "execution_count": 1,
   "id": "5509bf3e",
   "metadata": {},
   "outputs": [
    {
     "name": "stderr",
     "output_type": "stream",
     "text": [
      "d:\\PyCharm_Projects\\Scraping Dataset\\generating-annotations\\.venv\\Lib\\site-packages\\tqdm\\auto.py:21: TqdmWarning: IProgress not found. Please update jupyter and ipywidgets. See https://ipywidgets.readthedocs.io/en/stable/user_install.html\n",
      "  from .autonotebook import tqdm as notebook_tqdm\n"
     ]
    }
   ],
   "source": [
    "import torch\n",
    "from diffusers import StableDiffusionPipeline, DDIMScheduler, UNet2DConditionModel\n",
    "from PIL import Image"
   ]
  },
  {
   "cell_type": "code",
   "execution_count": null,
   "id": "dd521486",
   "metadata": {},
   "outputs": [],
   "source": [
    "class CustomStableDiffusion:\n",
    "    def __init__(self, model_id=\"runwayml/stable-diffusion-v1-5\", unet_path=None, device=None):\n",
    "        self.device = device or (\"cuda\" if torch.cuda.is_available() else \"cpu\")\n",
    "\n",
    "        # Загрузка пайплайна\n",
    "        self.pipe = StableDiffusionPipeline.from_pretrained(\n",
    "            model_id,\n",
    "            torch_dtype=torch.float16 if self.device == \"cuda\" else torch.float32,\n",
    "            scheduler=DDIMScheduler.from_pretrained(model_id, subfolder=\"scheduler\"),\n",
    "            safety_checker=None  # Можно отключить, если не нужен\n",
    "        ).to(self.device)\n",
    "\n",
    "        # Заменяем UNet на кастомный (если указан путь)\n",
    "        if unet_path:\n",
    "            print(f\"🔁 Loading custom UNet from: {unet_path}\")\n",
    "            unet = UNet2DConditionModel.from_pretrained(model_id, subfolder=\"unet\")\n",
    "            state_dict = torch.load(unet_path, map_location=self.device)\n",
    "            unet.load_state_dict(state_dict)\n",
    "            unet.to(self.device)\n",
    "            self.pipe.unet = unet\n",
    "\n",
    "    def generate(self, prompt, output_path=\"output.png\", height=512, width=512, num_inference_steps=50, guidance_scale=7.5):\n",
    "        with torch.autocast(self.device) if self.device == \"cuda\" else torch.no_grad():\n",
    "            image = self.pipe(\n",
    "                prompt,\n",
    "                height=height,\n",
    "                width=width,\n",
    "                num_inference_steps=num_inference_steps,\n",
    "                guidance_scale=guidance_scale\n",
    "            ).images[0]\n",
    "            return image\n"
   ]
  },
  {
   "cell_type": "code",
   "execution_count": null,
   "id": "89d11b6b",
   "metadata": {},
   "outputs": [],
   "source": [
    "generator = CustomStableDiffusion(\n",
    "    model_id=\"runwayml/stable-diffusion-v1-5\",\n",
    "    unet_path=\"checkpoints/unet_final.pt\"\n",
    ")\n",
    "\n",
    "image = generator.generate(\"a fantasy castle surrounded by fog and mountains\")\n",
    "image"
   ]
  }
 ],
 "metadata": {
  "kernelspec": {
   "display_name": ".venv",
   "language": "python",
   "name": "python3"
  },
  "language_info": {
   "codemirror_mode": {
    "name": "ipython",
    "version": 3
   },
   "file_extension": ".py",
   "mimetype": "text/x-python",
   "name": "python",
   "nbconvert_exporter": "python",
   "pygments_lexer": "ipython3",
   "version": "3.13.2"
  }
 },
 "nbformat": 4,
 "nbformat_minor": 5
}
