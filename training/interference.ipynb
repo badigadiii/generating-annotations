{
 "cells": [
  {
   "cell_type": "code",
   "execution_count": 1,
   "id": "5509bf3e",
   "metadata": {},
   "outputs": [
    {
     "name": "stderr",
     "output_type": "stream",
     "text": [
      "d:\\PyCharm_Projects\\Scraping Dataset\\generating-annotations\\.venv\\Lib\\site-packages\\tqdm\\auto.py:21: TqdmWarning: IProgress not found. Please update jupyter and ipywidgets. See https://ipywidgets.readthedocs.io/en/stable/user_install.html\n",
      "  from .autonotebook import tqdm as notebook_tqdm\n"
     ]
    }
   ],
   "source": [
    "import os\n",
    "import torch\n",
    "from diffusers import StableDiffusionPipeline, DDIMScheduler, UNet2DConditionModel\n",
    "from PIL import Image"
   ]
  },
  {
   "cell_type": "code",
   "execution_count": 2,
   "id": "dd521486",
   "metadata": {},
   "outputs": [],
   "source": [
    "class CustomStableDiffusion:\n",
    "    def __init__(self, model_id=\"runwayml/stable-diffusion-v1-5\", unet_path=None, device=None, torch_dtype=torch.float16, cache_dir=\"./models\"):\n",
    "        self.device = device or (\"cuda\" if torch.cuda.is_available() else \"cpu\")\n",
    "        self.cache_dir = cache_dir\n",
    "        os.makedirs(cache_dir, exist_ok=True)\n",
    "\n",
    "        self.pipe = StableDiffusionPipeline.from_pretrained(\n",
    "            model_id,\n",
    "            torch_dtype=torch_dtype,\n",
    "            scheduler=DDIMScheduler.from_pretrained(model_id, subfolder=\"scheduler\", cache_dir=cache_dir),\n",
    "            safety_checker=None,\n",
    "            cache_dir=cache_dir\n",
    "        ).to(self.device)\n",
    "\n",
    "        # Заменяем UNet на кастомный (если указан путь)\n",
    "        if unet_path:\n",
    "            print(f\"🔁 Loading custom UNet from: {unet_path}\")\n",
    "            unet = UNet2DConditionModel.from_pretrained(model_id, subfolder=\"unet\", cache_dir=cache_dir)\n",
    "            state_dict = torch.load(unet_path, map_location=self.device)\n",
    "            unet.load_state_dict(state_dict)\n",
    "            unet.to(self.device)\n",
    "            self.pipe.unet = unet\n",
    "\n",
    "    def generate(self, prompt, height=256, width=256, num_inference_steps=50, guidance_scale=7.5):\n",
    "        with torch.autocast(self.device) if self.device == \"cuda\" else torch.no_grad():\n",
    "            image = self.pipe(\n",
    "                prompt,\n",
    "                height=height,\n",
    "                width=width,\n",
    "                num_inference_steps=num_inference_steps,\n",
    "                guidance_scale=guidance_scale\n",
    "            ).images[0]\n",
    "            return image\n"
   ]
  },
  {
   "cell_type": "code",
   "execution_count": 4,
   "id": "27b710f1",
   "metadata": {},
   "outputs": [],
   "source": [
    "from pathlib import Path\n",
    "\n",
    "checkpoints_dir = Path('checkpoints')"
   ]
  },
  {
   "cell_type": "code",
   "execution_count": 3,
   "id": "89d11b6b",
   "metadata": {},
   "outputs": [
    {
     "name": "stderr",
     "output_type": "stream",
     "text": [
      "Loading pipeline components...: 100%|██████████| 6/6 [10:46<00:00, 107.69s/it]\n",
      "You have disabled the safety checker for <class 'diffusers.pipelines.stable_diffusion.pipeline_stable_diffusion.StableDiffusionPipeline'> by passing `safety_checker=None`. Ensure that you abide to the conditions of the Stable Diffusion license and do not expose unfiltered results in services or applications open to the public. Both the diffusers team and Hugging Face strongly recommend to keep the safety filter enabled in all public facing circumstances, disabling it only for use-cases that involve analyzing network behavior or auditing its results. For more information, please have a look at https://github.com/huggingface/diffusers/pull/254 .\n"
     ]
    },
    {
     "name": "stdout",
     "output_type": "stream",
     "text": [
      "🔁 Loading custom UNet from: checkpoints/unet_epoch_10.pt\n"
     ]
    }
   ],
   "source": [
    "generator = CustomStableDiffusion(\n",
    "    model_id=\"runwayml/stable-diffusion-v1-5\",\n",
    "    unet_path=checkpoints_dir / \"unet_epoch_10.pt\"\n",
    ")"
   ]
  },
  {
   "cell_type": "code",
   "execution_count": null,
   "id": "57f144e1",
   "metadata": {},
   "outputs": [],
   "source": [
    "image = generator.generate(\"a fantasy castle surrounded by fog and mountains\", num_inference_steps=5)\n",
    "image"
   ]
  }
 ],
 "metadata": {
  "kernelspec": {
   "display_name": ".venv",
   "language": "python",
   "name": "python3"
  },
  "language_info": {
   "codemirror_mode": {
    "name": "ipython",
    "version": 3
   },
   "file_extension": ".py",
   "mimetype": "text/x-python",
   "name": "python",
   "nbconvert_exporter": "python",
   "pygments_lexer": "ipython3",
   "version": "3.13.2"
  }
 },
 "nbformat": 4,
 "nbformat_minor": 5
}
